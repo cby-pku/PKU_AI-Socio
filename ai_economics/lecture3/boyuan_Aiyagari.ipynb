{
 "cells": [
  {
   "cell_type": "markdown",
   "metadata": {},
   "source": [
    "##  复现 Aiygari Model"
   ]
  },
  {
   "cell_type": "markdown",
   "metadata": {},
   "source": [
    "### 复现了Aiygari Model的主要实验结果，并进一步测试了在不同的 (theta, delta) 条件下的模型求解结果\n",
    "\n",
    "### Table of Contents  <!-- omit in toc -->\n",
    "\n",
    "- [Aiyagari Model Realization](#realization)\n",
    "- [Main Results](#main)\n",
    "- [More Cases](#cases)"
   ]
  },
  {
   "cell_type": "markdown",
   "metadata": {},
   "source": [
    "### Aiyagari Model Realization"
   ]
  },
  {
   "cell_type": "code",
   "execution_count": 16,
   "metadata": {},
   "outputs": [],
   "source": [
    "import quantecon as qe  \n",
    "import math\n",
    "import numpy as np\n",
    "import copy\n",
    "\n",
    "# 初始化超参数\n",
    "beta = 0.96  \n",
    "mu = 3  \n",
    "\n",
    "rho = 0.9  \n",
    "sigma = 0.4  \n",
    "sigma_in = sigma * np.sqrt(1 - rho ** 2)  \n",
    "\n",
    "# Tolerance levels for convergence\n",
    "tolv, tolr, rola = 1e-7, 1e-4, 1e-3\n",
    "\n",
    "N = 7  \n",
    "m = 3  \n",
    "markov_chain = qe.markov.approximation.tauchen(N, rho, sigma_in)\n",
    "Pi = markov_chain.P \n",
    "Pii = Pi.T  \n",
    "log_state = markov_chain.state_values  \n",
    "inv_dist = markov_chain.stationary_distributions.reshape(N,1)  \n",
    "s = np.exp(log_state)  \n",
    "labor = np.dot(s, inv_dist[:, 0])  \n",
    "lt = len(s)  \n",
    "\n",
    "condition = 1\n",
    " \n",
    "\n",
    "\n",
    "def get_reward_space(kgrid, mu, r,w):\n",
    "    \"\"\"\n",
    "    计算所有状态下当前资本与下一资本组合的效用\n",
    "    \"\"\"\n",
    "    lk = len(kgrid)\n",
    "    c = np.zeros((lk, lk, lt))\n",
    "    u = np.zeros((lk, lk, lt))\n",
    "    for t in range(lt):\n",
    "        for i in range(lk):\n",
    "            for j in range(lk):\n",
    "                c[i, j, t] = (1 + r) * kgrid[i] + w * s[t] - kgrid[j]\n",
    "                if c[i, j, t] < 0:\n",
    "                    c[i, j, t] = tolv\n",
    "    if mu == 1:\n",
    "        u = np.log(c)\n",
    "    else:\n",
    "        u = (np.power(c, (1 - mu)) - 1) / (1 - mu)\n",
    "    return u\n",
    "\n",
    "\n",
    "def aiyagari(theta, delta, r):\n",
    "    iter1 = 0  \n",
    "    while True:\n",
    "        iter1 += 1 \n",
    "        K = labor * math.pow((r + delta) / theta, 1 / (theta - 1))  # Capital stock\n",
    "        w = (1 - theta) * ((theta / (r + delta)) ** (theta / (1-theta)))  # Wage rate\n",
    "        \n",
    "        bound = 0\n",
    "        phi = bound if r <= 0 else min(bound, w * s[0] / r)\n",
    "        \n",
    "        # Discretize capital for Markov process\n",
    "        k_min = -phi\n",
    "        k_max = 16\n",
    "        inc = 0.1\n",
    "        kgrid = np.arange(k_min, k_max, inc)\n",
    "        lk = len(kgrid)\n",
    "        \n",
    "        # Initialize value function \n",
    "        u = get_reward_space(kgrid, mu,r ,w)\n",
    "        V0 = np.ones((lk, lt))\n",
    "        V1 = np.zeros((lk, lt))\n",
    "        optim = np.zeros((lk, lt), dtype=np.int32)\n",
    "        \n",
    "        while np.linalg.norm(V1-V0) > tolv:\n",
    "            V0 = copy.deepcopy(V1)\n",
    "            for j in range(lt):\n",
    "                for i in range(lk):\n",
    "                    vtemp = u[i,:, j] + beta * np.dot(V0, Pii[:, j])\n",
    "                    V1[i, j] = np.max(vtemp)\n",
    "                    optim[i, j] = np.argmax(vtemp)\n",
    "        polk = kgrid[optim.astype('int64')]\n",
    "        \n",
    "        # Construct transition matrix for the optimal policy\n",
    "        gmat = np.zeros((lk, lk, lt))\n",
    "        trans = np.zeros((lk*lt, lk*lt))\n",
    "        for j in range(lt):\n",
    "            for i in range(lk):\n",
    "                gmat[i, optim[i, j], j] = 1\n",
    "            trans[j*lk: (j+1)*lk, :] = np.kron(Pi[j, :], gmat[:, :, j])\n",
    "        probst = np.ones((1, lt*lk), dtype=float) / (lt*lk)\n",
    "        \n",
    "        # Compute stationary distribution of capital 计算资本的稳态分布\n",
    "        test = 1\n",
    "        while test > 1e-5:\n",
    "            probst1 = np.dot(probst, trans)\n",
    "            test = np.max(np.abs(probst-probst1))\n",
    "            probst = probst1\n",
    "        meank = np.dot(probst, polk.T.reshape(-1, 1))\n",
    "        \n",
    "        # Update interest rate and check for convergence 更新利率并检查是否收敛\n",
    "        rstar = theta * math.pow(meank, theta - 1) * math.pow(labor, 1 - theta) - delta\n",
    "        testr = abs(r - rstar)\n",
    "        testa = abs(K - meank)\n",
    "        if testr < tolr:\n",
    "            break  \n",
    "        print()\n",
    "        print(f\"Mean k : {meank} ; K: {K}\")\n",
    "        if iter1 == 1:\n",
    "            rhigh = max(r, rstar)\n",
    "            rlow = min(r, rstar)\n",
    "        elif meank > K:\n",
    "            print(f'Current r value: {r}')\n",
    "            print('Mean k > K, Reducing r')\n",
    "            print()\n",
    "            rhigh = r\n",
    "        else:\n",
    "            print(f'Current r value: {r}')\n",
    "            print('Meank < K, Increasing r')\n",
    "            print()\n",
    "            rlow = r\n",
    "        r = rhigh * 0.5 + rlow * 0.5\n",
    "\n",
    "    print('Model solved successfully!')\n",
    "    print(f\"Final value of r: {r}\")\n",
    "    return r\n"
   ]
  },
  {
   "cell_type": "markdown",
   "metadata": {},
   "source": [
    "### Main Results 主实验复现"
   ]
  },
  {
   "cell_type": "code",
   "execution_count": 17,
   "metadata": {},
   "outputs": [
    {
     "name": "stdout",
     "output_type": "stream",
     "text": [
      "\n",
      "Mean k : [[11.40072607]] ; K: 6.208241247715122\n",
      "\n",
      "Mean k : [[7.45514721]] ; K: 8.169504063710336\n",
      "Current r value: 0.020664397100827982\n",
      "Meank < K, Increasing r\n",
      "\n",
      "\n",
      "Mean k : [[9.20697512]] ; K: 7.078919626813719\n",
      "Current r value: 0.03033219855041399\n",
      "Mean k > K, Reducing r\n",
      "\n",
      "\n",
      "Mean k : [[8.311833]] ; K: 7.592210877520186\n",
      "Current r value: 0.025498297825620984\n",
      "Mean k > K, Reducing r\n",
      "\n",
      "Model solved successfully!\n",
      "Final value of r: 0.02308134746322448\n"
     ]
    },
    {
     "data": {
      "text/plain": [
       "0.02308134746322448"
      ]
     },
     "execution_count": 17,
     "metadata": {},
     "output_type": "execute_result"
    }
   ],
   "source": [
    "# 调用主模型函数\n",
    "theta = 0.36  # Capital's share of income\n",
    "delta = 0.08  # Depreciation rate\n",
    "condition = 1\n",
    "r = 0.04 if condition else 0.02298754441505 \n",
    "aiyagari(theta, delta,r)"
   ]
  },
  {
   "cell_type": "markdown",
   "metadata": {},
   "source": [
    "### More Cases 测试更多例子"
   ]
  },
  {
   "cell_type": "code",
   "execution_count": 18,
   "metadata": {},
   "outputs": [
    {
     "name": "stdout",
     "output_type": "stream",
     "text": [
      "\n",
      "Mean k : [[7.85073408]] ; K: 7.883393105490121\n",
      "Model solved successfully!\n",
      "Final value of r: 0.023124538833109363\n"
     ]
    },
    {
     "data": {
      "text/plain": [
       "0.023124538833109363"
      ]
     },
     "execution_count": 18,
     "metadata": {},
     "output_type": "execute_result"
    }
   ],
   "source": [
    "# 测试更多的例子\n",
    "theta = 0.36  # Capital's share of income\n",
    "delta = 0.08  # Depreciation rate\n",
    "condition = 0\n",
    "r = 0.04 if condition else 0.02298754441505 \n",
    "aiyagari(theta, delta,r)\n"
   ]
  },
  {
   "cell_type": "code",
   "execution_count": 19,
   "metadata": {},
   "outputs": [
    {
     "name": "stdout",
     "output_type": "stream",
     "text": [
      "\n",
      "Mean k : [[11.41426974]] ; K: 4.8793753307347885\n",
      "\n",
      "Mean k : [[5.65940497]] ; K: 7.048818468166916\n",
      "Current r value: 0.010633510129099587\n",
      "Meank < K, Increasing r\n",
      "\n",
      "\n",
      "Mean k : [[8.04557527]] ; K: 5.801629616148076\n",
      "Current r value: 0.025316755064549792\n",
      "Mean k > K, Reducing r\n",
      "\n",
      "\n",
      "Mean k : [[6.73067963]] ; K: 6.375535466912307\n",
      "Current r value: 0.01797513259682469\n",
      "Mean k > K, Reducing r\n",
      "\n",
      "\n",
      "Mean k : [[6.16304701]] ; K: 6.698327721867597\n",
      "Current r value: 0.01430432136296214\n",
      "Meank < K, Increasing r\n",
      "\n",
      "\n",
      "Mean k : [[6.41431024]] ; K: 6.5336637593117945\n",
      "Current r value: 0.016139726979893416\n",
      "Meank < K, Increasing r\n",
      "\n",
      "\n",
      "Mean k : [[6.56516471]] ; K: 6.453805445662083\n",
      "Current r value: 0.017057429788359054\n",
      "Mean k > K, Reducing r\n",
      "\n",
      "\n",
      "Mean k : [[6.48091314]] ; K: 6.493533275634222\n",
      "Current r value: 0.016598578384126234\n",
      "Meank < K, Increasing r\n",
      "\n",
      "\n",
      "Mean k : [[6.53074543]] ; K: 6.4736193809580636\n",
      "Current r value: 0.016828004086242646\n",
      "Mean k > K, Reducing r\n",
      "\n",
      "\n",
      "Mean k : [[6.51510116]] ; K: 6.483563789617373\n",
      "Current r value: 0.01671329123518444\n",
      "Mean k > K, Reducing r\n",
      "\n",
      "\n",
      "Mean k : [[6.49924845]] ; K: 6.488545392465099\n",
      "Current r value: 0.016655934809655337\n",
      "Mean k > K, Reducing r\n",
      "\n",
      "Model solved successfully!\n",
      "Final value of r: 0.016627256596890787\n"
     ]
    },
    {
     "data": {
      "text/plain": [
       "0.016627256596890787"
      ]
     },
     "execution_count": 19,
     "metadata": {},
     "output_type": "execute_result"
    }
   ],
   "source": [
    "# 测试更多的例子\n",
    "theta = 0.36  # Capital's share of income\n",
    "delta = 0.10  # Depreciation rate\n",
    "condition = 1\n",
    "r = 0.04 if condition else 0.02298754441505 \n",
    "aiyagari(theta, delta,r)"
   ]
  },
  {
   "cell_type": "code",
   "execution_count": 20,
   "metadata": {},
   "outputs": [
    {
     "name": "stdout",
     "output_type": "stream",
     "text": [
      "\n",
      "Mean k : [[11.43397342]] ; K: 8.297193145803423\n",
      "\n",
      "Mean k : [[9.28117145]] ; K: 9.665402464348663\n",
      "Current r value: 0.029498457269572464\n",
      "Meank < K, Increasing r\n",
      "\n",
      "\n",
      "Mean k : [[10.37547102]] ; K: 8.939577325780116\n",
      "Current r value: 0.03474922863478623\n",
      "Mean k > K, Reducing r\n",
      "\n",
      "\n",
      "Mean k : [[9.81901697]] ; K: 9.291161004674235\n",
      "Current r value: 0.03212384295217935\n",
      "Mean k > K, Reducing r\n",
      "\n",
      "\n",
      "Mean k : [[9.55272003]] ; K: 9.47532625550747\n",
      "Current r value: 0.030811150110875908\n",
      "Mean k > K, Reducing r\n",
      "\n",
      "\n",
      "Mean k : [[9.42676765]] ; K: 9.56960933195588\n",
      "Current r value: 0.030154803690224184\n",
      "Meank < K, Increasing r\n",
      "\n",
      "\n",
      "Mean k : [[9.49018249]] ; K: 9.522281091519648\n",
      "Current r value: 0.030482976900550046\n",
      "Meank < K, Increasing r\n",
      "\n",
      "\n",
      "Mean k : [[9.52802148]] ; K: 9.498757251699061\n",
      "Current r value: 0.030647063505712977\n",
      "Mean k > K, Reducing r\n",
      "\n",
      "Model solved successfully!\n",
      "Final value of r: 0.03056502020313151\n"
     ]
    },
    {
     "data": {
      "text/plain": [
       "0.03056502020313151"
      ]
     },
     "execution_count": 20,
     "metadata": {},
     "output_type": "execute_result"
    }
   ],
   "source": [
    "# 测试更多的例子\n",
    "theta = 0.40  # Capital's share of income\n",
    "delta = 0.08  # Depreciation rate\n",
    "condition = 1\n",
    "r = 0.04 if condition else 0.02298754441505 \n",
    "aiyagari(theta, delta,r)"
   ]
  },
  {
   "cell_type": "code",
   "execution_count": 21,
   "metadata": {},
   "outputs": [
    {
     "name": "stdout",
     "output_type": "stream",
     "text": [
      "\n",
      "Mean k : [[7.54816862]] ; K: 5.909261452477154\n",
      "\n",
      "Mean k : [[6.24278842]] ; K: 6.644740532866797\n",
      "Current r value: 0.015091615259548326\n",
      "Meank < K, Increasing r\n",
      "\n",
      "\n",
      "Mean k : [[6.86216604]] ; K: 6.2588967152436235\n",
      "Current r value: 0.01903957983729916\n",
      "Mean k > K, Reducing r\n",
      "\n",
      "\n",
      "Mean k : [[6.54208339]] ; K: 6.446972378737054\n",
      "Current r value: 0.017065597548423746\n",
      "Mean k > K, Reducing r\n",
      "\n",
      "\n",
      "Mean k : [[6.38375844]] ; K: 6.544601648431685\n",
      "Current r value: 0.016078606403986034\n",
      "Meank < K, Increasing r\n",
      "\n",
      "\n",
      "Mean k : [[6.45421862]] ; K: 6.495478871900914\n",
      "Current r value: 0.01657210197620489\n",
      "Meank < K, Increasing r\n",
      "\n",
      "\n",
      "Mean k : [[6.49547834]] ; K: 6.471149271068622\n",
      "Current r value: 0.01681884976231432\n",
      "Mean k > K, Reducing r\n",
      "\n",
      "Model solved successfully!\n",
      "Final value of r: 0.016695475869259603\n"
     ]
    },
    {
     "data": {
      "text/plain": [
       "0.016695475869259603"
      ]
     },
     "execution_count": 21,
     "metadata": {},
     "output_type": "execute_result"
    }
   ],
   "source": [
    "# 测试更多的例子\n",
    "theta = 0.32  # Capital's share of income\n",
    "delta = 0.08  # Depreciation rate\n",
    "condition = 0\n",
    "r = 0.04 if condition else 0.02298754441505 \n",
    "aiyagari(theta, delta,r)"
   ]
  },
  {
   "cell_type": "code",
   "execution_count": null,
   "metadata": {},
   "outputs": [],
   "source": []
  }
 ],
 "metadata": {
  "kernelspec": {
   "display_name": "base",
   "language": "python",
   "name": "python3"
  },
  "language_info": {
   "codemirror_mode": {
    "name": "ipython",
    "version": 3
   },
   "file_extension": ".py",
   "mimetype": "text/x-python",
   "name": "python",
   "nbconvert_exporter": "python",
   "pygments_lexer": "ipython3",
   "version": "3.10.9"
  }
 },
 "nbformat": 4,
 "nbformat_minor": 2
}
