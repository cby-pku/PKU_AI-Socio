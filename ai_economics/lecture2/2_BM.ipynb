{
 "cells": [
  {
   "cell_type": "markdown",
   "metadata": {},
   "source": [
    "# <center>A Simple Representative Growth Model<center>\n",
    "# Brock and Mirman(1972)"
   ]
  },
  {
   "cell_type": "markdown",
   "metadata": {},
   "source": [
    "The social planner solves the following problem:\n",
    "\n",
    "$$\n",
    "\\begin{gathered}\n",
    "\\max _{\\left\\{c_{t}, k_{t+1}\\right\\}} \\sum_{t=0}^{\\infty} \\beta^{t} \\log \\left(c_{t}\\right) \\\\\n",
    "c_{t}+k_{t+1} \\leq A k_{t}^{\\alpha} \\\\\n",
    "k_{0} \\text { given, } c_{t}, k_{t} \\geq 0 \\text { for all } t\n",
    "\\end{gathered}\n",
    "$$\n",
    "\n",
    "The controls are $c_{t}$ and $k_{t+1}$, and the only state is $k_{t}$. We can reformulate the previous problem as a dynamic programming problem as follows:\n",
    "\n",
    "\n",
    "$$\n",
    "V(k)=\\max _{k^{\\prime}}\\left\\{\\log \\left(A k^{\\alpha}-k^{\\prime}\\right)+\\beta V\\left(k^{\\prime}\\right)\\right\\}\n",
    "$$\n",
    "\n",
    "If we solve for capital stock policy rule $k^{\\prime}=g_{k}(k)$, we can obtain the policy function for consumption $c=g_{c}(k)$ directly from the resource constraint:\n",
    "\n",
    "$$\n",
    "g_{c}(k)=A k^{\\alpha}-g_{k}(k)\n",
    "$$"
   ]
  },
  {
   "cell_type": "markdown",
   "metadata": {},
   "source": [
    "## Step 1: Initialization of the parameters and steady state"
   ]
  },
  {
   "cell_type": "code",
   "execution_count": 1,
   "metadata": {},
   "outputs": [],
   "source": [
    "import numpy as np\n",
    "import matplotlib.pyplot as plt\n",
    "\n",
    "# Model Parameters\n",
    "alpha = 0.4\n",
    "A = 5\n",
    "beta = 0.9888\n",
    "\n",
    "# Algorithm Parameters\n",
    "T = 10 # periods to simulate\n",
    "tolv = 1e-7 # tolerance"
   ]
  },
  {
   "cell_type": "markdown",
   "metadata": {},
   "source": [
    "To compute the steady state, we use the equilibrium conditions:\n",
    "\n",
    "$$\n",
    "\\begin{gathered}\n",
    "\\frac{1}{c}=\\beta \\frac{1}{c^{\\prime}}\\left(\\alpha A k^{\\prime \\alpha-1}\\right) \\\\\n",
    "c+k^{\\prime}=A k^{\\alpha}\n",
    "\\end{gathered}\n",
    "$$\n",
    "\n",
    "Imposing $x=x^{\\prime}$ for all variables, we get:\n",
    "\n",
    "$$\n",
    "\\begin{gathered}\n",
    "k_{s s}=\\left(\\frac{1}{\\beta \\alpha A}\\right)^{\\frac{1}{\\alpha-1}} \\\\\n",
    "c_{s s}=A k_{s s}^{\\alpha}-k_{s s} \\\\\n",
    "y_{s s}=A k_{s s}^{\\alpha}\n",
    "\\end{gathered}\n",
    "$$"
   ]
  },
  {
   "cell_type": "code",
   "execution_count": 3,
   "metadata": {},
   "outputs": [
    {
     "name": "stdout",
     "output_type": "stream",
     "text": [
      "k_ss= 3.1157606561253433\n",
      "k_u= 14.62008869106433\n"
     ]
    }
   ],
   "source": [
    "k_ss = (1 / (beta*alpha*A))**(1 / (alpha - 1))\n",
    "y_ss = A * k_ss ** alpha\n",
    "c_ss = y_ss - k_ss\n",
    "ku = (1 / A) ** (1 / (alpha - 1)) # if c =0 \n",
    "\n",
    "print(\"k_ss=\",k_ss)\n",
    "print(\"k_u=\", ku)\n",
    "\n",
    "# 利用稳态提供一个初始的state , 而后计算upper bound : ku 提供一个upper bound"
   ]
  },
  {
   "cell_type": "markdown",
   "metadata": {},
   "source": [
    "## Step 2: Creation of a grid for the states\n",
    "Create a vector for $k$, with $l_{k}$ values i.e. $k \\in\\left[k_{1}<k_{2}<\\ldots<k_{l_{k}}\\right]$. The larger $l_{k}$, the better the approximation, but this increases the computing time. We can have the grid from 0 to $k_{l_{k}}$, or around the steady state, e.g. $\\pm 10 \\%$ of $k_{s s}$. "
   ]
  },
  {
   "cell_type": "code",
   "execution_count": 4,
   "metadata": {},
   "outputs": [
    {
     "name": "stdout",
     "output_type": "stream",
     "text": [
      "[2.95997262 2.96186096 2.9637493  2.96563764 2.96752598 2.96941432\n",
      " 2.97130266 2.973191   2.97507934 2.97696768 2.97885602 2.98074436\n",
      " 2.9826327  2.98452104 2.98640938 2.98829772 2.99018606 2.9920744\n",
      " 2.99396274 2.99585108 2.99773942 2.99962776 3.0015161  3.00340444\n",
      " 3.00529278 3.00718112 3.00906946 3.0109578  3.01284614 3.01473448\n",
      " 3.01662282 3.01851116 3.0203995  3.02228784 3.02417618 3.02606452\n",
      " 3.02795286 3.0298412  3.03172954 3.03361788 3.03550621 3.03739455\n",
      " 3.03928289 3.04117123 3.04305957 3.04494791 3.04683625 3.04872459\n",
      " 3.05061293 3.05250127 3.05438961 3.05627795 3.05816629 3.06005463\n",
      " 3.06194297 3.06383131 3.06571965 3.06760799 3.06949633 3.07138467\n",
      " 3.07327301 3.07516135 3.07704969 3.07893803 3.08082637 3.08271471\n",
      " 3.08460305 3.08649139 3.08837973 3.09026807 3.09215641 3.09404475\n",
      " 3.09593309 3.09782143 3.09970977 3.10159811 3.10348645 3.10537479\n",
      " 3.10726313 3.10915147 3.11103981 3.11292815 3.11481649 3.11670483\n",
      " 3.11859317 3.12048151 3.12236985 3.12425819 3.12614652 3.12803486\n",
      " 3.1299232  3.13181154 3.13369988 3.13558822 3.13747656 3.1393649\n",
      " 3.14125324 3.14314158 3.14502992 3.14691826]\n"
     ]
    }
   ],
   "source": [
    "# 创造格点\n",
    "lk = 100\n",
    "k_min = 0.95 * k_ss\n",
    "k_max = 1.01 * k_ss\n",
    "k = np.linspace(k_min, k_max, num=lk)\n",
    "\n",
    "print(k)"
   ]
  },
  {
   "cell_type": "markdown",
   "metadata": {},
   "source": [
    "## Step 3: Computation of the return function\n",
    "\n",
    "For each value of $k$ and $k^{\\prime}$ in the grid we need:\n",
    "\n",
    "$$\n",
    "\\begin{aligned}\n",
    "c &=A k^{\\alpha}-k^{\\prime} \\\\\n",
    "U(c) &=\\log (c)\n",
    "\\end{aligned}\n",
    "$$\n",
    "\n",
    "$U$ is of dimension $g_{k} \\times 1$, where $g_{k}=l_{k} \\times l_{k}$. If $l_{k}=2$ :\n",
    "\n",
    "$$\n",
    "\\begin{aligned}\n",
    "& \\leftarrow k^{\\prime} \\longrightarrow \\\\\n",
    "& \\begin{aligned}&\\uparrow \\\\& k \\\\&\\downarrow\\end{aligned}\\left[\\begin{array}{l}c_{11} \\\\c_{12} \\\\c_{21} \\\\c_{22}\\end{array}\\right] \\\\\n",
    " c_{i j}=A k_{i}^{\\alpha}-k_{j}  & \\text{ for } i=1: l_{k} \\text { and } j=1: l_{k} \n",
    "\\end{aligned}\n",
    "$$"
   ]
  },
  {
   "cell_type": "code",
   "execution_count": 5,
   "metadata": {},
   "outputs": [
    {
     "name": "stdout",
     "output_type": "stream",
     "text": [
      "[4.75767743 4.75578909 4.75390075 ... 4.76590602 4.76401768 4.76212934]\n"
     ]
    }
   ],
   "source": [
    "gk = lk * lk  # dimension of U\n",
    "\n",
    "c = np.zeros((gk))\n",
    "for i in range(lk):\n",
    "    for j in range(lk):\n",
    "        c[i*lk+j] = A * (k[i] ** alpha) - k[j] # c[i*lk+j] indicates c_{ij}\n",
    "        if c[i*lk+j] < 0:\n",
    "            c[i*lk+j] = tolv\n",
    "print(c)"
   ]
  },
  {
   "cell_type": "markdown",
   "metadata": {},
   "source": [
    "Finally, to calculate the return function, we simply take the log of the consumption vector:"
   ]
  },
  {
   "cell_type": "code",
   "execution_count": 6,
   "metadata": {
    "scrolled": true
   },
   "outputs": [
    {
     "name": "stdout",
     "output_type": "stream",
     "text": [
      "[1.55975961 1.55936263 1.55896549 ... 1.56148766 1.56109136 1.56069491]\n"
     ]
    }
   ],
   "source": [
    "u = np.log(c)\n",
    "print(u)"
   ]
  },
  {
   "cell_type": "markdown",
   "metadata": {},
   "source": [
    "## Step 4: Initialization and computation of the optimal value function\n",
    "\n",
    "Our candidate value function is an $l_{k} \\times 1$ vector:\n",
    "$$\n",
    "V(k)=\\left[\\begin{array}{c}\n",
    "V\\left(k_{1}\\right) \\\\\n",
    "V\\left(k_{2}\\right) \\\\\n",
    "\\vdots \\\\\n",
    "V\\left(k_{l_{k}}\\right)\n",
    "\\end{array}\\right]\n",
    "$$\n",
    "\n",
    "We can initialize $V_{0}$ with a vector of zeros of dimension $l_{k}$.\n",
    "\n",
    "We also need to initialize the contraction mapping operator $V_{1}=T\\left(V_{0}\\right)$. In iteration $n$, it returns:\n",
    "\n",
    "$$\n",
    "V_{n}\\left(k_{i}\\right)=\\max _{k^{\\prime}}\\left\\{\\left[\\begin{array}{c}\n",
    "U\\left(A k_{i}-k_{1}^{\\prime}\\right) \\\\\n",
    "U\\left(A k_{i}-k_{2}^{\\prime}\\right)\n",
    "\\end{array}\\right]+\\beta\\left[\\begin{array}{c}\n",
    "V_{n-1}\\left(k_{1}^{\\prime}\\right) \\\\\n",
    "V_{n-1}\\left(k_{2}^{\\prime}\\right)\n",
    "\\end{array}\\right]\\right\\}\n",
    "$$\n",
    "\n",
    "In each iteration: \n",
    "- Set $V_{0}$ to be the $V_{1}$ computed from the previous iteration.\n",
    "- For each $k_{i}$, compute $U(c)+\\beta V_{0}\\left(k^{\\prime}\\right)$ and choose the maximum over $k^{\\prime}$ and call it $V_{1}$ (Use the max operator).\n",
    "- Compare $V_{0}$ with $V_{1}$ and, if the difference is sufficiently small, stop (Use the norm of $V_{1}-V_{0}$ )."
   ]
  },
  {
   "cell_type": "code",
   "execution_count": 8,
   "metadata": {},
   "outputs": [
    {
     "name": "stdout",
     "output_type": "stream",
     "text": [
      "[139.30896111 139.3093831  139.30980484 139.31022632 139.31064752\n",
      " 139.31106849 139.31148913 139.31190957 139.3123297  139.31274961\n",
      " 139.31316924 139.31358856 139.31400769 139.31442648 139.314845\n",
      " 139.31526329 139.3156813  139.3160991  139.31651656 139.3169338\n",
      " 139.31735077 139.31776745 139.31818392 139.31860007 139.31901604\n",
      " 139.31943169 139.31984704 139.32026219 139.32067707 139.32109174\n",
      " 139.32150608 139.32192016 139.32233401 139.32274754 139.32316086\n",
      " 139.3235739  139.32398674 139.32439929 139.32481152 139.32522358\n",
      " 139.32563533 139.32604691 139.32645818 139.32686914 139.32727993\n",
      " 139.3276904  139.32810065 139.32851064 139.32892038 139.32932989\n",
      " 139.32973908 139.33014807 139.33055679 139.3309653  139.33137355\n",
      " 139.33178148 139.33218921 139.33259667 139.33300389 139.33341088\n",
      " 139.33381755 139.33422407 139.33463028 139.33503619 139.33544193\n",
      " 139.33584736 139.33625262 139.33665758 139.33706228 139.33746678\n",
      " 139.33787099 139.33827503 139.33867875 139.33908225 139.33948552\n",
      " 139.33988847 139.34029122 139.34069372 139.34109601 139.34149805\n",
      " 139.34189978 139.34230134 139.34270262 139.34310366 139.34350448\n",
      " 139.34390501 139.34430538 139.34470544 139.34510524 139.34550485\n",
      " 139.3459042  139.34630336 139.34670221 139.34710083 139.34749923\n",
      " 139.34789734 139.34829526 139.34869292 139.34909036 139.34948758]\n"
     ]
    }
   ],
   "source": [
    "# Initialize value function and operator and iterate\n",
    "V0 = np.ones((lk)) # 这是个一维矩阵！\n",
    "V1 = np.zeros((lk))\n",
    "\n",
    "while abs(np.linalg.norm(V1 - V0)) > tolv:\n",
    "    V0 = np.copy(V1) # Attention! Use deepcopy here to avoid shallow copy.\n",
    "    for i in range(lk):\n",
    "        vtemp = u[i*lk:(i+1)*lk] + beta * V0 # note that in python index starts from 0.\n",
    "        #print(vtemp)\n",
    "        # vtemp 也是一个100维的向量，代表了从i到其他所有状态的value function的值:即i*lk -> (i+1)*lk\n",
    "        # 最后估计出了每个状态自身的状态价值\n",
    "        V1[i] = np.max(vtemp)\n",
    "V0 = np.copy(V1)\n",
    "print(V0)"
   ]
  },
  {
   "cell_type": "markdown",
   "metadata": {},
   "source": [
    "## Step 5: Computation of the optimal policy functions\n",
    "To calculate $g_{k}(k)$, for each point in the grid, find the index where $U(c)+\\beta V^{*}\\left(k^{\\prime}\\right)$ takes its maximum value when $V^{*}$ is used.\n",
    "\n",
    "The element optim[i] gives the index of the $k^{\\prime}$ maximizer when the initial capital is $k_{i}$."
   ]
  },
  {
   "cell_type": "code",
   "execution_count": 9,
   "metadata": {
    "scrolled": true
   },
   "outputs": [
    {
     "name": "stdout",
     "output_type": "stream",
     "text": [
      "[49 49 50 50 51 51 51 52 52 53 53 54 54 54 55 55 56 56 56 57 57 58 58 58\n",
      " 59 59 60 60 61 61 61 62 62 62 63 63 64 64 64 65 65 66 66 67 67 67 68 68\n",
      " 69 69 69 70 70 71 71 71 72 72 73 73 74 74 74 75 75 75 76 76 77 77 78 78\n",
      " 78 79 79 79 80 80 81 81 81 82 82 83 83 84 84 84 85 85 86 86 86 87 87 87\n",
      " 88 88 89 89]\n"
     ]
    }
   ],
   "source": [
    "optim = np.zeros(lk,dtype=\"int\") # \"int\" type for index. \n",
    "for i in range(lk):\n",
    "    # 然后算出每个状态应该往哪个状态转移是最优的\n",
    "    vtemp = u[i*lk:(i+1)*lk] + beta * V0\n",
    "    optim[i] = np.argmax(vtemp)\n",
    "print(optim)"
   ]
  },
  {
   "cell_type": "markdown",
   "metadata": {},
   "source": [
    "The policy functions are given by:\n",
    "\n",
    "$$\n",
    "\\begin{aligned}\n",
    "&\\text{polk}=\\left[\\begin{array}{l}\n",
    "g_{k}\\left(k_{1}\\right) \\\\\n",
    "g_{k}\\left(k_{2}\\right)\n",
    "\\end{array}\\right] \\text { and polc }=\\left[\\begin{array}{l}\n",
    "g_{c}\\left(k_{1}\\right) \\\\\n",
    "g_{c}\\left(k_{2}\\right)\n",
    "\\end{array}\\right] \\\\\n",
    "&\\text { polc }=A\\left[\\begin{array}{l}\n",
    "k_{1} \\\\\n",
    "k_{2}\n",
    "\\end{array}\\right]^{\\alpha}-\\left[\\begin{array}{l}\n",
    "g_{k}\\left(k_{1}\\right) \\\\\n",
    "g_{k}\\left(k_{2}\\right)\n",
    "\\end{array}\\right]\n",
    "\\end{aligned}\n",
    "$$"
   ]
  },
  {
   "cell_type": "code",
   "execution_count": 10,
   "metadata": {},
   "outputs": [
    {
     "name": "stdout",
     "output_type": "stream",
     "text": [
      "[3.05250127 3.05250127 3.05438961 3.05438961 3.05627795 3.05627795\n",
      " 3.05627795 3.05816629 3.05816629 3.06005463 3.06005463 3.06194297\n",
      " 3.06194297 3.06194297 3.06383131 3.06383131 3.06571965 3.06571965\n",
      " 3.06571965 3.06760799 3.06760799 3.06949633 3.06949633 3.06949633\n",
      " 3.07138467 3.07138467 3.07327301 3.07327301 3.07516135 3.07516135\n",
      " 3.07516135 3.07704969 3.07704969 3.07704969 3.07893803 3.07893803\n",
      " 3.08082637 3.08082637 3.08082637 3.08271471 3.08271471 3.08460305\n",
      " 3.08460305 3.08649139 3.08649139 3.08649139 3.08837973 3.08837973\n",
      " 3.09026807 3.09026807 3.09026807 3.09215641 3.09215641 3.09404475\n",
      " 3.09404475 3.09404475 3.09593309 3.09593309 3.09782143 3.09782143\n",
      " 3.09970977 3.09970977 3.09970977 3.10159811 3.10159811 3.10159811\n",
      " 3.10348645 3.10348645 3.10537479 3.10537479 3.10726313 3.10726313\n",
      " 3.10726313 3.10915147 3.10915147 3.10915147 3.11103981 3.11103981\n",
      " 3.11292815 3.11292815 3.11292815 3.11481649 3.11481649 3.11670483\n",
      " 3.11670483 3.11859317 3.11859317 3.11859317 3.12048151 3.12048151\n",
      " 3.12236985 3.12236985 3.12236985 3.12425819 3.12425819 3.12425819\n",
      " 3.12614652 3.12614652 3.12803486 3.12803486]\n",
      "[4.66514878 4.66711782 4.66719776 4.6691653  4.66924374 4.67120977\n",
      " 4.67317505 4.67325125 4.67521503 4.67528973 4.67725202 4.67732522\n",
      " 4.67928602 4.68124607 4.68131704 4.68327561 4.68334509 4.68530217\n",
      " 4.68725851 4.68732577 4.68928063 4.68934642 4.6912998  4.69325245\n",
      " 4.69331602 4.69526719 4.69532929 4.697279   4.69733963 4.69928787\n",
      " 4.70123538 4.70129382 4.70323986 4.70518518 4.70524142 4.70718528\n",
      " 4.70724007 4.70918248 4.71112415 4.71117677 4.71311699 4.71316816\n",
      " 4.71510693 4.71515665 4.71709399 4.7190306  4.71907815 4.72101333\n",
      " 4.72105944 4.72299318 4.7249262  4.72497016 4.72690175 4.72694428\n",
      " 4.72887443 4.73080387 4.73084426 4.73277228 4.73281124 4.73473783\n",
      " 4.73477537 4.73670054 4.73862501 4.73866042 4.74058347 4.74250581\n",
      " 4.7425391  4.74446002 4.74449191 4.74641142 4.7464419  4.74836001\n",
      " 4.75027742 4.75030579 4.75222179 4.7541371  4.75416336 4.75607727\n",
      " 4.75610214 4.75801465 4.75992647 4.75994925 4.76185967 4.76188106\n",
      " 4.76379009 4.7638101  4.76571774 4.7676247  4.76764263 4.7695482\n",
      " 4.76956474 4.77146894 4.77337245 4.77338692 4.77528905 4.7771905\n",
      " 4.77720292 4.77910299 4.77911403 4.78101274]\n"
     ]
    }
   ],
   "source": [
    "polk = k[optim]\n",
    "polc = A * k ** alpha - polk\n",
    "\n",
    "print(polk)\n",
    "print(polc)"
   ]
  },
  {
   "cell_type": "markdown",
   "metadata": {},
   "source": [
    "## Testing our approximation\n",
    "The analytical solution to the model is:\n",
    "$$\n",
    "\\begin{gathered}\n",
    "v(k)=(1-\\beta)^{-1}\\left[\\ln (A(1-\\alpha \\beta))+\\frac{\\alpha \\beta}{1-\\alpha \\beta} \\ln (A \\alpha \\beta)\\right]+\\frac{\\alpha}{1-\\alpha \\beta} \\ln (k) \\\\\n",
    "k^{\\prime}=g_{k}(k)=\\alpha \\beta A k^{\\alpha} \\\\\n",
    "c=g_{c}(k)=(1-\\alpha \\beta) A k^{\\alpha}\n",
    "\\end{gathered}\n",
    "$$\n",
    "To test our approximation, we compare the differences between the analytical and numerical solution. "
   ]
  },
  {
   "cell_type": "code",
   "execution_count": 11,
   "metadata": {},
   "outputs": [
    {
     "name": "stdout",
     "output_type": "stream",
     "text": [
      "Distance between true and approx. value function: 2.4666910677622458e-05\n"
     ]
    }
   ],
   "source": [
    "# True value functions\n",
    "a = (1/(1-beta))*(np.log(A*(1-alpha*beta))+alpha*beta*np.log(A*alpha*beta)/(1-alpha*beta))\n",
    "b = alpha/(1-alpha*beta)\n",
    "Vk = a + b * np.log(k)\n",
    "dist = np.linalg.norm(Vk-V0)\n",
    "print(\"Distance between true and approx. value function:\",dist)"
   ]
  },
  {
   "cell_type": "code",
   "execution_count": 12,
   "metadata": {},
   "outputs": [
    {
     "data": {
      "text/plain": [
       "Text(0.5, 1.0, 'True and Approximated value function')"
      ]
     },
     "execution_count": 12,
     "metadata": {},
     "output_type": "execute_result"
    },
    {
     "data": {
      "image/png": "[encoded data removed]",
      "text/plain": [
       "<Figure size 640x480 with 1 Axes>"
      ]
     },
     "metadata": {},
     "output_type": "display_data"
    }
   ],
   "source": [
    "plt.plot(k, V0)\n",
    "plt.plot(k, Vk)\n",
    "plt.title(\"True and Approximated value function\")"
   ]
  },
  {
   "cell_type": "markdown",
   "metadata": {},
   "source": [
    "## Simulating the model\n",
    "\n",
    "(1) Choose an initial value for $k_{0}$. To do this, select a number between 1 and $I_{k}$, indicating the position in the initial capital in the grid. Given this position, we use the capital policy function to extract the optimal first period capital.\n",
    "\n",
    "(2) We then create a loop that:\n",
    "- given the position of $k_{0}$, finds the position of the optimal next period capital that corresponds to it.\n",
    "- uses the initial capital and the position of the new optimal capital to calculate the values of output, consumption, and the next period capital, using the optimal policy vectors. \n",
    "\n",
    "**Tips:** We need lk = 100 (lk = 2 is too small) to demonstrate the proper picture. To achieve this: change lk in step 2, choose the next cell, click Cell-Run All Above, then rerun the next cell."
   ]
  },
  {
   "cell_type": "code",
   "execution_count": 11,
   "metadata": {},
   "outputs": [
    {
     "data": {
      "text/plain": [
       "Text(0.5, 1.0, 'Convergence of output towards its steady state')"
      ]
     },
     "execution_count": 11,
     "metadata": {},
     "output_type": "execute_result"
    },
    {
     "data": {
      "image/png": "[encoded data removed]",
      "text/plain": [
       "<Figure size 640x480 with 1 Axes>"
      ]
     },
     "metadata": {},
     "output_type": "display_data"
    }
   ],
   "source": [
    "indk = 0\n",
    "kopt = np.zeros(T+1)\n",
    "output = np.zeros(T)\n",
    "cons = np.zeros(T)\n",
    "\n",
    "kopt[0] = polk[indk]\n",
    "\n",
    "for i in range(T):\n",
    "    indk = optim[indk]\n",
    "    output[i] = A * kopt[i] ** alpha\n",
    "    kopt[i+1] = polk[indk]\n",
    "    cons[i] = output[i]-kopt[i+1]\n",
    "    \n",
    "plt.plot(range(T), output)\n",
    "plt.title(\"Convergence of output towards its steady state\")"
   ]
  },
  {
   "cell_type": "code",
   "execution_count": 12,
   "metadata": {},
   "outputs": [
    {
     "data": {
      "text/plain": [
       "Text(0.5, 1.0, 'Convergence of capital towards its steady state')"
      ]
     },
     "execution_count": 12,
     "metadata": {},
     "output_type": "execute_result"
    },
    {
     "data": {
      "image/png": "[encoded data removed]",
      "text/plain": [
       "<Figure size 640x480 with 1 Axes>"
      ]
     },
     "metadata": {},
     "output_type": "display_data"
    }
   ],
   "source": [
    "plt.plot(range(T), kopt[:T])\n",
    "plt.title(\"Convergence of capital towards its steady state\")"
   ]
  },
  {
   "cell_type": "code",
   "execution_count": 13,
   "metadata": {},
   "outputs": [
    {
     "data": {
      "text/plain": [
       "Text(0.5, 1.0, 'Convergence of consumption towards its steady state')"
      ]
     },
     "execution_count": 13,
     "metadata": {},
     "output_type": "execute_result"
    },
    {
     "data": {
      "image/png": "[encoded data removed]",
      "text/plain": [
       "<Figure size 640x480 with 1 Axes>"
      ]
     },
     "metadata": {},
     "output_type": "display_data"
    }
   ],
   "source": [
    "plt.plot(range(T), cons)\n",
    "plt.title(\"Convergence of consumption towards its steady state\")"
   ]
  },
  {
   "cell_type": "markdown",
   "metadata": {},
   "source": [
    "# Brock and Mirman with iid shocks\n",
    "\n",
    "The social planner solves the following problem:\n",
    "\n",
    "$$\n",
    "\\begin{gathered}\n",
    "\\max _{\\left\\{c_{t}, k_{t+1}\\right\\}} E_{0} \\sum_{t=0}^{\\infty} \\beta^{t} \\log \\left(c_{t}\\right) \\text { s.t. } \\\\\n",
    "c_{t}+k_{t+1} \\leq \\theta_{t} k_{t}^{\\alpha} \\\\\n",
    "\\theta_{t} \\in\\left[\\theta_{1}, \\theta_{2}\\right] \\text { and } \\operatorname{Pr}\\left(\\theta_{t}=\\theta_{1}\\right)=\\operatorname{Pr}\\left(\\theta_{t}=\\theta_{2}\\right)=0.5 \\\\\n",
    "k_{0}, \\theta_{0} \\text { given, } c_{t}, k_{t} \\geq 0 \\text { for all } t\n",
    "\\end{gathered}\n",
    "$$\n",
    "$\\theta_{t}$ 全要素生产率 模拟了宏观冲击\n",
    "The controls are $c_{t}$ and $k_{t+1}$, and the states are $k_{t}$ and $\\theta_{t}$. \n",
    "\n",
    "We can reformulate the previous problem as a dynamic programming problem as follows:\n",
    "\n",
    "$$\n",
    "V(k, \\theta)=\\max _{k^{\\prime}}\\left\\{\\log \\left(\\theta_{t} k^{\\alpha}-k^{\\prime}\\right)+\\beta E V\\left(k^{\\prime}, \\theta^{\\prime}\\right)\\right\\}\n",
    "$$\n",
    "\n",
    "We have to solve for:\n",
    "\n",
    "$$\n",
    "\\begin{aligned}\n",
    "k^{\\prime} &=g_{k}(k, \\theta) \\\\\n",
    "g_{c}(k, \\theta) &=\\theta k^{\\alpha}-g_{k}(k, \\theta)\n",
    "\\end{aligned}\n",
    "$$"
   ]
  },
  {
   "cell_type": "markdown",
   "metadata": {},
   "source": [
    "## Step 1: Initialization of the parameters and steady state"
   ]
  },
  {
   "cell_type": "code",
   "execution_count": 14,
   "metadata": {},
   "outputs": [],
   "source": [
    "# Model Parameters\n",
    "alpha = 0.4\n",
    "beta = 0.9888\n",
    "\n",
    "# Algorithm Parameters\n",
    "T = 100 # periods to simulate\n",
    "tolv = 1e-7 # tolerance"
   ]
  },
  {
   "cell_type": "markdown",
   "metadata": {},
   "source": [
    "To calculate the steady state, we use the following equations:\n",
    "\n",
    "$$\n",
    "\\begin{gathered}\n",
    "\\frac{1}{c}=\\beta E \\frac{1}{c^{\\prime}}\\left(\\alpha \\theta^{\\prime} k^{\\prime \\alpha-1}\\right) \\\\\n",
    "c+k^{\\prime}=k^{\\alpha}\n",
    "\\end{gathered}\n",
    "$$\n",
    "\n",
    "Imposing $E\\left(\\theta^{\\prime}\\right)=E(\\theta)=1$ and $x=x^{\\prime}$ for all variables, we get:\n",
    "\n",
    "$$\n",
    "\\begin{gathered}\n",
    "k_{s s}=\\left(\\frac{1}{\\beta \\alpha}\\right)^{\\frac{1}{\\alpha-1}} \\\\\n",
    "c_{s s}=k_{s s}^{\\alpha}-k_{s s} \\\\\n",
    "y_{s s}=k_{s s}^{\\alpha}\n",
    "\\end{gathered}\n",
    "$$\n"
   ]
  },
  {
   "cell_type": "code",
   "execution_count": 15,
   "metadata": {},
   "outputs": [
    {
     "name": "stdout",
     "output_type": "stream",
     "text": [
      "k_ss= 0.21311503110303762\n"
     ]
    }
   ],
   "source": [
    "# steady state\n",
    "k_ss = (1 / (beta*alpha))**(1 / (alpha - 1))\n",
    "y_ss = k_ss ** alpha\n",
    "c_ss = y_ss - k_ss\n",
    "\n",
    "print(\"k_ss=\",k_ss)"
   ]
  },
  {
   "cell_type": "markdown",
   "metadata": {},
   "source": [
    "## Step 2: Creation of a grid for the states\n",
    "Create a grid vector for $\\theta$ and $k$ with $l_{\\theta}$ and $l_{k}$ values $\\theta \\in\\left[\\theta_{1}<\\theta_{2}<\\ldots<\\theta_{l_{\\theta}}\\right]$ and $k \\in\\left[k_{1}<k_{2}<\\ldots<k_{l_{k}}\\right]$"
   ]
  },
  {
   "cell_type": "code",
   "execution_count": 16,
   "metadata": {},
   "outputs": [
    {
     "name": "stdout",
     "output_type": "stream",
     "text": [
      "[1.01625 0.98375]\n",
      "[0.20459043 0.20476264 0.20493486 0.20510707 0.20527929 0.2054515\n",
      " 0.20562371 0.20579593 0.20596814 0.20614036 0.20631257 0.20648479\n",
      " 0.206657   0.20682921 0.20700143 0.20717364 0.20734586 0.20751807\n",
      " 0.20769028 0.2078625  0.20803471 0.20820693 0.20837914 0.20855136\n",
      " 0.20872357 0.20889578 0.209068   0.20924021 0.20941243 0.20958464\n",
      " 0.20975685 0.20992907 0.21010128 0.2102735  0.21044571 0.21061793\n",
      " 0.21079014 0.21096235 0.21113457 0.21130678 0.211479   0.21165121\n",
      " 0.21182342 0.21199564 0.21216785 0.21234007 0.21251228 0.2126845\n",
      " 0.21285671 0.21302892 0.21320114 0.21337335 0.21354557 0.21371778\n",
      " 0.21388999 0.21406221 0.21423442 0.21440664 0.21457885 0.21475107\n",
      " 0.21492328 0.21509549 0.21526771 0.21543992 0.21561214 0.21578435\n",
      " 0.21595656 0.21612878 0.21630099 0.21647321 0.21664542 0.21681764\n",
      " 0.21698985 0.21716206 0.21733428 0.21750649 0.21767871 0.21785092\n",
      " 0.21802313 0.21819535 0.21836756 0.21853978 0.21871199 0.21888421\n",
      " 0.21905642 0.21922863 0.21940085 0.21957306 0.21974528 0.21991749\n",
      " 0.2200897  0.22026192 0.22043413 0.22060635 0.22077856 0.22095078\n",
      " 0.22112299 0.2212952  0.22146742 0.22163963]\n"
     ]
    }
   ],
   "source": [
    "lt = 2\n",
    "theta = np.linspace(1 + 1.625/100, 1-1.625/100, num=lt)\n",
    "print(theta)\n",
    "\n",
    "lk = 100\n",
    "k_min = 0.96 * k_ss\n",
    "k_max = 1.04 * k_ss\n",
    "k = np.linspace(k_min, k_max, num=lk)\n",
    "print(k)\n"
   ]
  },
  {
   "cell_type": "markdown",
   "metadata": {},
   "source": [
    "## Step 3: Computation of the return function\n",
    "\n",
    "For each value of $\\theta, k$ and $k^{\\prime}$, calculate:\n",
    "\n",
    "$$\n",
    "\\begin{gathered}\n",
    "c=\\theta k^{\\alpha}-k^{\\prime} \\\\\n",
    "U(c)=\\log (c)\n",
    "\\end{gathered}\n",
    "$$\n",
    "\n",
    "Create a matrix of dimensions $g_{k} \\times l_{\\theta}$, where $g_{k}=l_{k} \\times l_{k}$. If $I_{k}=2$ and $l_{\\theta}=2$ :\n",
    "\n",
    "$$\n",
    "\\begin{aligned}\n",
    "&  \\quad \\quad \\theta_{1}\\quad \\quad  \\quad \\quad \\quad \\theta_{2} \\\\\n",
    "& \\longleftarrow k^{\\prime} \\longrightarrow \\quad \\quad \\longleftarrow k^{\\prime} \\longrightarrow \\\\\n",
    "& \\begin{gathered}\\uparrow \\\\ k\\\\ \\downarrow\\end{gathered}\n",
    "\\left[\\begin{array}{l}c_{11} \\\\c_{12} \\\\c_{21} \\\\c_{22}\\end{array}\\right] \n",
    "\\quad \\quad \\quad \\begin{gathered}\\uparrow \\\\ k\\\\ \\downarrow\\end{gathered}\n",
    "\\left[\\begin{array}{l}c_{11} \\\\c_{12} \\\\c_{21} \\\\c_{22}\\end{array}\\right]\n",
    "\\end{aligned}\n",
    "$$\n",
    "\n",
    "where\n",
    "\n",
    "$$\n",
    "c_{i j}\\left(\\theta_{t}\\right)=\\theta_{t} k_{i}^{\\alpha}-k_{j} \\text { for } i=1: l_{k}, j=1: l_{k} \\text { and } t=1: 2\n",
    "$$\n",
    "\n",
    "We do it with a three dimensional loop on the indexes $t, i$ and $j$, where $t$ represents $\\theta, i$ represents $k$ and $j$ represents $k^{\\prime}$. Since consumption cannot be negative, we redefine $c=1 e-07$ whenever $c<0$."
   ]
  },
  {
   "cell_type": "code",
   "execution_count": 17,
   "metadata": {
    "scrolled": true
   },
   "outputs": [
    {
     "name": "stdout",
     "output_type": "stream",
     "text": [
      "[[0.33411913 0.31689103]\n",
      " [0.33394692 0.31671881]\n",
      " [0.3337747  0.3165466 ]\n",
      " ...\n",
      " [0.33494135 0.31715273]\n",
      " [0.33476914 0.31698051]\n",
      " [0.33459692 0.3168083 ]]\n"
     ]
    }
   ],
   "source": [
    "gk = lk * lk\n",
    "c = np.zeros((gk, lt))\n",
    "for t in range(lt):\n",
    "    for i in range(lk):\n",
    "        for j in range(lk):\n",
    "            c[i * lk + j][t] = theta[t] * k[i] ** alpha - k[j]\n",
    "            if c[i * lk + j][t] < 0:\n",
    "                c[i * lk + j][t] = tolv\n",
    "print(c)"
   ]
  },
  {
   "cell_type": "markdown",
   "metadata": {},
   "source": [
    "To calculate the return function, we simply take the log of the consumption matrix:"
   ]
  },
  {
   "cell_type": "code",
   "execution_count": 18,
   "metadata": {},
   "outputs": [],
   "source": [
    "u = np.log(c)"
   ]
  },
  {
   "cell_type": "markdown",
   "metadata": {},
   "source": [
    "## Step 4: Initialization and computation of the optimal value function\n",
    "\n",
    "Our candidate solution for the value function is an $l_{k} \\times l_{\\theta}$ matrix that will look at follows:\n",
    "\n",
    "$$\n",
    "V(k, \\theta)=\\left[\\begin{array}{cc}\n",
    "V\\left(k_{1}, \\theta_{1}\\right) & V\\left(k_{1}, \\theta_{2}\\right) \\\\\n",
    "V\\left(k_{2}, \\theta_{1}\\right) & V\\left(k_{2}, \\theta_{2}\\right) \\\\\n",
    "\\vdots & \\vdots \\\\\n",
    "V\\left(k_{l_{k}}, \\theta_{1}\\right) & V\\left(k_{l_{k}}, \\theta_{2}\\right)\n",
    "\\end{array}\\right]\n",
    "$$\n",
    "\n",
    "Initialize $V_{0}$ with a vector of zeros of dimension $l_{k} \\times l_{\\theta}$ and\n",
    "\n",
    "$$\n",
    "V_{1}=T\\left(V_{0}\\right)\n",
    "$$\n",
    "\n",
    "At iteration $n$, we calculate, for each $\\left(\\theta_{t}, k_{i}\\right)$, the maximum over $k^{\\prime}$ :\n",
    "\n",
    "$$\n",
    "V_{n}\\left(k_{i}, \\theta_t\\right)=\\max_{k^{\\prime}}\\left\\{\\left[\\begin{array}{c}\n",
    "U\\left(\\theta_t k_{i}-k_{1}^{\\prime}\\right) \\\\\n",
    "U\\left(\\theta_t k_{i}-k_{2}^{\\prime}\\right)\n",
    "\\end{array}\\right]+\\beta\\left[\\begin{array}{c}\n",
    "\\sum_{m=1}^2 \\frac{1}{2} V_{n-1}\\left(k_{1}^{\\prime}, \\theta_m^{\\prime}\\right) \\\\\n",
    "\\sum_{m=1}^2 \\frac{1}{2} V_{n-1}\\left(k_{2}^{\\prime},\n",
    "\\theta_m^{\\prime}\\right)\n",
    "\\end{array}\\right]\\right\\}\n",
    "$$\n",
    "\n",
    "\n",
    "After the first iteration, we follow the steps before:\n",
    "\n",
    "- Set $V_{0}$ to be the $V_{1}$ computed from the previous iteration.\n",
    "\n",
    "- For each $\\left(\\theta_{t}, k_{i}\\right)$, compute $U(c)+\\beta E V_{0}\\left(k^{\\prime}, \\theta^{\\prime}\\right)$ and choose the maximum over $k^{\\prime}$ and call it $V_{1}$.\n",
    "\n",
    "- Compare $V_{0}$ with $V_{1}$ and, if the difference is sufficiently small, stop (use the norm of $V_{1}-V_{0}$ ). "
   ]
  },
  {
   "cell_type": "code",
   "execution_count": 19,
   "metadata": {},
   "outputs": [
    {
     "name": "stdout",
     "output_type": "stream",
     "text": [
      "[[-100.17641813 -100.2301881 ]\n",
      " [-100.17586141 -100.22963129]\n",
      " [-100.17530506 -100.22907506]\n",
      " [-100.17474929 -100.22851912]\n",
      " [-100.17419382 -100.22796378]\n",
      " [-100.17363895 -100.22740892]\n",
      " [-100.17308452 -100.22685445]\n",
      " [-100.17253053 -100.22630055]\n",
      " [-100.17197701 -100.22574694]\n",
      " [-100.17142389 -100.22519392]\n",
      " [-100.17087136 -100.22464132]\n",
      " [-100.17031922 -100.22408916]\n",
      " [-100.16976755 -100.22353759]\n",
      " [-100.16921639 -100.2229863 ]\n",
      " [-100.1686656  -100.22243558]\n",
      " [-100.16811538 -100.22188523]\n",
      " [-100.16756546 -100.22133536]\n",
      " [-100.16701611 -100.22078607]\n",
      " [-100.16646723 -100.22023712]\n",
      " [-100.16591873 -100.21968868]\n",
      " [-100.16537072 -100.21914067]\n",
      " [-100.16482309 -100.21859308]\n",
      " [-100.16427603 -100.21804606]\n",
      " [-100.16372937 -100.21749932]\n",
      " [-100.16318316 -100.21695315]\n",
      " [-100.16263746 -100.2164074 ]\n",
      " [-100.1620921  -100.21586207]\n",
      " [-100.1615473  -100.21531725]\n",
      " [-100.16100282 -100.21477276]\n",
      " [-100.16045887 -100.21422882]\n",
      " [-100.1599154  -100.21368538]\n",
      " [-100.15937229 -100.21314228]\n",
      " [-100.15882974 -100.21259972]\n",
      " [-100.1582875  -100.21205745]\n",
      " [-100.15774579 -100.21151573]\n",
      " [-100.15720452 -100.21097447]\n",
      " [-100.15666365 -100.21043358]\n",
      " [-100.15612331 -100.20989325]\n",
      " [-100.15558327 -100.20935325]\n",
      " [-100.15504378 -100.20881374]\n",
      " [-100.15450464 -100.20827464]\n",
      " [-100.15396598 -100.20773595]\n",
      " [-100.15342785 -100.20719781]\n",
      " [-100.15289001 -100.20666003]\n",
      " [-100.15235273 -100.20612271]\n",
      " [-100.15181583 -100.20558576]\n",
      " [-100.15127937 -100.20504925]\n",
      " [-100.1507434  -100.20451328]\n",
      " [-100.15020775 -100.20397766]\n",
      " [-100.14967265 -100.20344249]\n",
      " [-100.14913787 -100.20290787]\n",
      " [-100.14860358 -100.20237351]\n",
      " [-100.14806971 -100.2018397 ]\n",
      " [-100.14753622 -100.20130619]\n",
      " [-100.14700328 -100.20077318]\n",
      " [-100.14647065 -100.2002407 ]\n",
      " [-100.14593851 -100.19970851]\n",
      " [-100.14540683 -100.19917683]\n",
      " [-100.1448755  -100.19864544]\n",
      " [-100.14434471 -100.19811455]\n",
      " [-100.14381419 -100.1975842 ]\n",
      " [-100.1432842  -100.19705411]\n",
      " [-100.1427546  -100.19652455]\n",
      " [-100.1422254  -100.19599541]\n",
      " [-100.14169672 -100.19546663]\n",
      " [-100.14116831 -100.19493837]\n",
      " [-100.14064044 -100.19441037]\n",
      " [-100.14011297 -100.1938829 ]\n",
      " [-100.13958588 -100.19335594]\n",
      " [-100.13905932 -100.19282925]\n",
      " [-100.13853303 -100.19230309]\n",
      " [-100.13800725 -100.19177718]\n",
      " [-100.13748185 -100.19125179]\n",
      " [-100.13695686 -100.19072689]\n",
      " [-100.13643236 -100.19020227]\n",
      " [-100.13590814 -100.18967818]\n",
      " [-100.13538445 -100.1891544 ]\n",
      " [-100.13486118 -100.18863107]\n",
      " [-100.13433826 -100.18810822]\n",
      " [-100.13381584 -100.18758566]\n",
      " [-100.13329369 -100.18706362]\n",
      " [-100.13277207 -100.18654203]\n",
      " [-100.13225083 -100.18602075]\n",
      " [-100.13172997 -100.18549997]\n",
      " [-100.13120959 -100.18497945]\n",
      " [-100.1306895  -100.18445944]\n",
      " [-100.13016992 -100.18393988]\n",
      " [-100.12965067 -100.18342063]\n",
      " [-100.12913185 -100.18290189]\n",
      " [-100.12861355 -100.18238344]\n",
      " [-100.12809552 -100.18186545]\n",
      " [-100.12757797 -100.1813479 ]\n",
      " [-100.12706075 -100.18083065]\n",
      " [-100.12654395 -100.18031392]\n",
      " [-100.12602766 -100.1797976 ]\n",
      " [-100.12551163 -100.17928161]\n",
      " [-100.1249961  -100.17876609]\n",
      " [-100.12448095 -100.17825084]\n",
      " [-100.12396616 -100.1777361 ]\n",
      " [-100.12345185 -100.17722179]]\n"
     ]
    }
   ],
   "source": [
    "# Initialize value function and operator and iterate\n",
    "V0 = np.ones((lk, lt))\n",
    "V1 = np.zeros((lk, lt))\n",
    "p = np.array([0.5, 0.5])\n",
    "\n",
    "while abs(np.linalg.norm(V1 - V0)) > tolv:\n",
    "    V0 = np.copy(V1)\n",
    "    for j in range(lt):\n",
    "        for i in range(lk):\n",
    "            vtemp = u[i*lk:(i+1)*lk,j] + beta * V0 @ p\n",
    "            #print(vtemp)\n",
    "            V1[i,j] = np.max(vtemp)\n",
    "V0 = np.copy(V1)\n",
    "print(V0)"
   ]
  },
  {
   "cell_type": "markdown",
   "metadata": {},
   "source": [
    "## Step 5: Computation of the optimal policy functions\n",
    "\n",
    "For each point in the grid, we find the index of the capital maximizer using the max operator."
   ]
  },
  {
   "cell_type": "code",
   "execution_count": 20,
   "metadata": {},
   "outputs": [
    {
     "name": "stdout",
     "output_type": "stream",
     "text": [
      "[[49 10]\n",
      " [50 10]\n",
      " [50 11]\n",
      " [51 11]\n",
      " [51 11]\n",
      " [51 12]\n",
      " [52 12]\n",
      " [52 13]\n",
      " [53 13]\n",
      " [53 13]\n",
      " [53 14]\n",
      " [54 14]\n",
      " [54 14]\n",
      " [55 15]\n",
      " [55 15]\n",
      " [55 16]\n",
      " [56 16]\n",
      " [56 16]\n",
      " [57 17]\n",
      " [57 17]\n",
      " [58 18]\n",
      " [58 18]\n",
      " [58 18]\n",
      " [59 19]\n",
      " [59 19]\n",
      " [60 20]\n",
      " [60 20]\n",
      " [60 21]\n",
      " [61 21]\n",
      " [61 21]\n",
      " [62 22]\n",
      " [62 22]\n",
      " [62 23]\n",
      " [63 23]\n",
      " [63 23]\n",
      " [64 24]\n",
      " [64 24]\n",
      " [65 24]\n",
      " [65 25]\n",
      " [65 25]\n",
      " [66 26]\n",
      " [66 26]\n",
      " [67 26]\n",
      " [67 27]\n",
      " [67 27]\n",
      " [68 28]\n",
      " [68 28]\n",
      " [69 28]\n",
      " [69 29]\n",
      " [69 29]\n",
      " [70 30]\n",
      " [70 30]\n",
      " [71 30]\n",
      " [71 31]\n",
      " [71 31]\n",
      " [72 31]\n",
      " [72 32]\n",
      " [73 32]\n",
      " [73 33]\n",
      " [73 33]\n",
      " [74 33]\n",
      " [74 34]\n",
      " [75 34]\n",
      " [75 35]\n",
      " [76 35]\n",
      " [76 36]\n",
      " [76 36]\n",
      " [77 36]\n",
      " [77 37]\n",
      " [77 37]\n",
      " [78 37]\n",
      " [78 38]\n",
      " [79 38]\n",
      " [79 39]\n",
      " [80 39]\n",
      " [80 39]\n",
      " [80 40]\n",
      " [81 40]\n",
      " [81 41]\n",
      " [82 41]\n",
      " [82 41]\n",
      " [82 42]\n",
      " [83 42]\n",
      " [83 43]\n",
      " [84 43]\n",
      " [84 43]\n",
      " [84 44]\n",
      " [85 44]\n",
      " [85 44]\n",
      " [85 45]\n",
      " [86 45]\n",
      " [86 46]\n",
      " [87 46]\n",
      " [87 46]\n",
      " [87 47]\n",
      " [88 47]\n",
      " [88 48]\n",
      " [89 48]\n",
      " [89 48]\n",
      " [90 49]]\n"
     ]
    }
   ],
   "source": [
    "optim = np.zeros((lk,lt),dtype=\"int\") # \"int\" type for index. \n",
    "for j in range(lt):\n",
    "    for i in range(lk):\n",
    "        vtemp = u[i*lk:(i+1)*lk,j] + beta * V0 @ p\n",
    "        optim[i,j] = np.argmax(vtemp)\n",
    "print(optim)"
   ]
  },
  {
   "cell_type": "markdown",
   "metadata": {},
   "source": [
    "Using this matrix, the policy functions can be calculated as follows:\n",
    "\n",
    "$$\n",
    "\\begin{gathered}\n",
    "\\text { polk }=\\left[\\begin{array}{ll}\n",
    "g_{k}\\left(k_{1}, \\theta_{1}\\right) & g_{k}\\left(k_{1}, \\theta_{2}\\right) \\\\\n",
    "g_{k}\\left(k_{2}, \\theta_{1}\\right) & g_{k}\\left(k_{2}, \\theta_{2}\\right)\n",
    "\\end{array}\\right] \\\\\n",
    "\\text { polc }=\\left[\\begin{array}{ll}\n",
    "g_{c}\\left(k_{1}, \\theta_{1}\\right) & g_{c}\\left(k_{1}, \\theta_{2}\\right) \\\\\n",
    "g_{c}\\left(k_{2}, \\theta_{1}\\right) & g_{c}\\left(k_{2}, \\theta_{2}\\right)\n",
    "\\end{array}\\right] \\\\\n",
    "\\text{polc}=\\left[\\begin{array}{ll}\n",
    "\\theta_{1} k_{1}^{\\alpha} & \\theta_{2} k_{1}^{\\alpha} \\\\\n",
    "\\theta_{1} k_{2}^{\\alpha} & \\theta_{2} k_{2}^{\\alpha}\n",
    "\\end{array}\\right]-\\left[\\begin{array}{ll}\n",
    "g_{k}\\left(k_{1}, \\theta_{1}\\right) & g_{k}\\left(k_{1}, \\theta_{2}\\right) \\\\\n",
    "g_{k}\\left(k_{2}, \\theta_{1}\\right) & g_{k}\\left(k_{2}, \\theta_{2}\\right)\n",
    "\\end{array}\\right]\n",
    "\\end{gathered}\n",
    "$$"
   ]
  },
  {
   "cell_type": "code",
   "execution_count": 21,
   "metadata": {},
   "outputs": [
    {
     "name": "stdout",
     "output_type": "stream",
     "text": [
      "[[0.21302892 0.20631257]\n",
      " [0.21320114 0.20631257]\n",
      " [0.21320114 0.20648479]\n",
      " [0.21337335 0.20648479]\n",
      " [0.21337335 0.20648479]\n",
      " [0.21337335 0.206657  ]\n",
      " [0.21354557 0.206657  ]\n",
      " [0.21354557 0.20682921]\n",
      " [0.21371778 0.20682921]\n",
      " [0.21371778 0.20682921]\n",
      " [0.21371778 0.20700143]\n",
      " [0.21388999 0.20700143]\n",
      " [0.21388999 0.20700143]\n",
      " [0.21406221 0.20717364]\n",
      " [0.21406221 0.20717364]\n",
      " [0.21406221 0.20734586]\n",
      " [0.21423442 0.20734586]\n",
      " [0.21423442 0.20734586]\n",
      " [0.21440664 0.20751807]\n",
      " [0.21440664 0.20751807]\n",
      " [0.21457885 0.20769028]\n",
      " [0.21457885 0.20769028]\n",
      " [0.21457885 0.20769028]\n",
      " [0.21475107 0.2078625 ]\n",
      " [0.21475107 0.2078625 ]\n",
      " [0.21492328 0.20803471]\n",
      " [0.21492328 0.20803471]\n",
      " [0.21492328 0.20820693]\n",
      " [0.21509549 0.20820693]\n",
      " [0.21509549 0.20820693]\n",
      " [0.21526771 0.20837914]\n",
      " [0.21526771 0.20837914]\n",
      " [0.21526771 0.20855136]\n",
      " [0.21543992 0.20855136]\n",
      " [0.21543992 0.20855136]\n",
      " [0.21561214 0.20872357]\n",
      " [0.21561214 0.20872357]\n",
      " [0.21578435 0.20872357]\n",
      " [0.21578435 0.20889578]\n",
      " [0.21578435 0.20889578]\n",
      " [0.21595656 0.209068  ]\n",
      " [0.21595656 0.209068  ]\n",
      " [0.21612878 0.209068  ]\n",
      " [0.21612878 0.20924021]\n",
      " [0.21612878 0.20924021]\n",
      " [0.21630099 0.20941243]\n",
      " [0.21630099 0.20941243]\n",
      " [0.21647321 0.20941243]\n",
      " [0.21647321 0.20958464]\n",
      " [0.21647321 0.20958464]\n",
      " [0.21664542 0.20975685]\n",
      " [0.21664542 0.20975685]\n",
      " [0.21681764 0.20975685]\n",
      " [0.21681764 0.20992907]\n",
      " [0.21681764 0.20992907]\n",
      " [0.21698985 0.20992907]\n",
      " [0.21698985 0.21010128]\n",
      " [0.21716206 0.21010128]\n",
      " [0.21716206 0.2102735 ]\n",
      " [0.21716206 0.2102735 ]\n",
      " [0.21733428 0.2102735 ]\n",
      " [0.21733428 0.21044571]\n",
      " [0.21750649 0.21044571]\n",
      " [0.21750649 0.21061793]\n",
      " [0.21767871 0.21061793]\n",
      " [0.21767871 0.21079014]\n",
      " [0.21767871 0.21079014]\n",
      " [0.21785092 0.21079014]\n",
      " [0.21785092 0.21096235]\n",
      " [0.21785092 0.21096235]\n",
      " [0.21802313 0.21096235]\n",
      " [0.21802313 0.21113457]\n",
      " [0.21819535 0.21113457]\n",
      " [0.21819535 0.21130678]\n",
      " [0.21836756 0.21130678]\n",
      " [0.21836756 0.21130678]\n",
      " [0.21836756 0.211479  ]\n",
      " [0.21853978 0.211479  ]\n",
      " [0.21853978 0.21165121]\n",
      " [0.21871199 0.21165121]\n",
      " [0.21871199 0.21165121]\n",
      " [0.21871199 0.21182342]\n",
      " [0.21888421 0.21182342]\n",
      " [0.21888421 0.21199564]\n",
      " [0.21905642 0.21199564]\n",
      " [0.21905642 0.21199564]\n",
      " [0.21905642 0.21216785]\n",
      " [0.21922863 0.21216785]\n",
      " [0.21922863 0.21216785]\n",
      " [0.21922863 0.21234007]\n",
      " [0.21940085 0.21234007]\n",
      " [0.21940085 0.21251228]\n",
      " [0.21957306 0.21251228]\n",
      " [0.21957306 0.21251228]\n",
      " [0.21957306 0.2126845 ]\n",
      " [0.21974528 0.2126845 ]\n",
      " [0.21974528 0.21285671]\n",
      " [0.21991749 0.21285671]\n",
      " [0.21991749 0.21285671]\n",
      " [0.2200897  0.21302892]]\n"
     ]
    }
   ],
   "source": [
    "polk = k[optim]\n",
    "print(polk)"
   ]
  },
  {
   "cell_type": "markdown",
   "metadata": {},
   "source": [
    "## Simulating the model\n",
    "(1) Choose an initial value for $k_{0}$ and $\\theta_{0}$ and use the policy matrix to extract the optimal first period capital.\n",
    "\n",
    "(2) We then create a loop that:\n",
    "\n",
    "- given the initial capital and the initial shock, finds the position of the optimal next period capital.\n",
    "\n",
    "- uses the initial capital, the initial shock index, and the position of the new optimal capital to calculate the values of output, consumption, and the next period capital, using the optimal policy matrices. It also generates a new shock index for next period.\n"
   ]
  },
  {
   "cell_type": "code",
   "execution_count": 22,
   "metadata": {},
   "outputs": [],
   "source": [
    "indk = 1\n",
    "shock = 1\n",
    "kopt = np.zeros(T+1)\n",
    "sho = np.zeros(T)\n",
    "output = np.zeros(T)\n",
    "cons = np.zeros(T)\n",
    "\n",
    "kopt[0] = polk[indk,shock]\n",
    "\n",
    "for i in range(T):\n",
    "    indk = optim[indk,shock]\n",
    "    sho[i] = theta[shock]\n",
    "    kopt[i+1] = polk[indk,shock]\n",
    "    output[i] = theta[shock] * kopt[i] ** alpha\n",
    "    cons[i] = output[i]-kopt[i+1]\n",
    "    shock = np.random.randint(0,2)"
   ]
  },
  {
   "cell_type": "code",
   "execution_count": 23,
   "metadata": {
    "scrolled": true
   },
   "outputs": [
    {
     "data": {
      "text/plain": [
       "Text(0.5, 1.0, 'Simulation of all variables')"
      ]
     },
     "execution_count": 23,
     "metadata": {},
     "output_type": "execute_result"
    },
    {
     "data": {
      "image/png": "[encoded data removed]",
      "text/plain": [
       "<Figure size 640x480 with 1 Axes>"
      ]
     },
     "metadata": {},
     "output_type": "display_data"
    }
   ],
   "source": [
    "plt.plot(range(T), output)\n",
    "plt.plot(range(T), cons)\n",
    "plt.plot(range(T), kopt[:T])\n",
    "plt.title(\"Simulation of all variables\")"
   ]
  },
  {
   "cell_type": "markdown",
   "metadata": {},
   "source": [
    "# Stochastic Growth Model with Markov Shocks"
   ]
  },
  {
   "cell_type": "markdown",
   "metadata": {},
   "source": [
    "The social planner solves the following problem:\n",
    "\n",
    "$$\n",
    "\\begin{gathered}\n",
    "\\max _{\\left\\{c_{t}, k_{t+1}\\right\\}} E_{0} \\sum_{t=0}^{\\infty} \\beta^{t} \\frac{c_{t}^{1-\\gamma}}{1-\\gamma} \\text { s.t. } \\\\\n",
    "c_{t}+i_{t} \\leq \\theta_{t} A k_{t}^{\\alpha} \\\\\n",
    "k_{t+1}=i_{t}+(1-\\delta) k_{t} \\\\\n",
    "k_{0}, \\theta_{0} \\text{ given, }c_{t}, k_{t} \\geq 0 \\text{ for all } t \n",
    "\\end{gathered}\n",
    "$$\n",
    "\n",
    "The controls are $c_{t}, i_{t}$ and $k_{t+1}$ and the states are $k_{t}$ and $\\theta_{t}$. The dynamic programming formulation is:\n",
    "\n",
    "$$\n",
    "V(k, \\theta)=\\max _{k^{\\prime}}\\left\\{\\log \\left(\\theta A k^{\\alpha}-k^{\\prime}+(1-\\delta) k\\right)+\\beta E V\\left(k^{\\prime}, \\theta^{\\prime}\\right)\\right\\}\n",
    "$$\n",
    "\n",
    "We have to solve for\n",
    "$$\n",
    "\\begin{gathered}\n",
    "k^{\\prime}=g_{k}(k, \\theta) \\\\\n",
    "g_{c}(k, \\theta)=\\theta A k^{\\alpha}+(1-\\delta) k-g_{k}(k, \\theta)\n",
    "\\end{gathered}\n",
    "$$"
   ]
  },
  {
   "cell_type": "markdown",
   "metadata": {},
   "source": [
    "## Step 1: Initialization of the parameters and steady state"
   ]
  },
  {
   "cell_type": "code",
   "execution_count": 112,
   "metadata": {},
   "outputs": [
    {
     "name": "stdout",
     "output_type": "stream",
     "text": [
      "[0.97886651 0.99290529 1.00714541 1.02158976]\n",
      "[0.05317954 0.44682046 0.44682046 0.05317954]\n"
     ]
    }
   ],
   "source": [
    "import quantecon as qe\n",
    "\n",
    "# Model and Algorithm Parameters\n",
    "delta=0.1\n",
    "alf=0.33\n",
    "A=1\n",
    "beta=0.9\n",
    "gamma=2\n",
    "tolv=1e-7\n",
    "\n",
    "#Define the type of shock \n",
    "shock=2\n",
    "if shock==1:# actually not right\n",
    "    Pi=np.array([[0.8, 0.2],[0.2, 0.8]])\n",
    "    print(Pi)\n",
    "    \n",
    "    teta_min = 0.9\n",
    "    teta_max = 1.1\n",
    "    inc = 0.2\n",
    "    teta = np.arange(teta_min, teta_max, inc)\n",
    "    print(teta)\n",
    "elif shock==2:\n",
    "    rho=0.95\n",
    "    sigmae=0.00712\n",
    "    # sigmain = sigmae*np.sqrt(1-rho**2)\n",
    "    N=4\n",
    "    m=3\n",
    "    markov_chain=qe.markov.approximation.tauchen(rho,sigme,m=m, n=N)\n",
    "    \n",
    "    # transition matrix\n",
    "    Pi = markov_chain.P\n",
    "    Pit = Pi.T\n",
    "    # print(Pit)\n",
    "\n",
    "    # log state value\n",
    "    log = markov_chain.state_values\n",
    "    teta = np.exp(log)\n",
    "    print(teta)\n",
    "\n",
    "    # stationary distribution\n",
    "    invdist = markov_chain.stationary_distributions.reshape(N, 1)[:,0]\n",
    "    print(invdist)\n",
    "\n",
    "lt = len(teta)"
   ]
  },
  {
   "cell_type": "markdown",
   "metadata": {},
   "source": [
    "The equations determining the equilibrium of the model are given by:\n",
    "\n",
    "$$\n",
    "\\begin{gathered}\n",
    "c^{-\\gamma}=\\beta E\\left(c^{\\prime}\\right)^{-\\gamma}\\left(\\alpha \\theta^{\\prime} A k^{\\prime \\alpha-1}+1-\\delta\\right) \\\\\n",
    "c+i=\\theta A k^{\\alpha} \\\\\n",
    "i=k^{\\prime}-(1-\\delta) k\n",
    "\\end{gathered}\n",
    "$$\n",
    "\n",
    "Imposing $\\theta_{s s}=E \\theta^{\\prime}=E \\theta$ and $x=x^{\\prime}$ for all variables we get:\n",
    "\n",
    "$$\n",
    "\\begin{gathered}\n",
    "k_{s s}=\\left(\\frac{1-\\beta(1-\\delta)}{\\beta \\alpha A \\theta_{s s}}\\right)^{\\frac{1}{\\alpha-1}} \\\\\n",
    "i_{s s}=\\delta k_{s s} \\\\\n",
    "c_{s s}=\\theta_{s s} A k_{s s}^{\\alpha}-i_{s s} \\\\\n",
    "y_{s s}=A \\theta_{s s} k_{s s}^{\\alpha}\n",
    "\\end{gathered}\n",
    "$$"
   ]
  },
  {
   "cell_type": "code",
   "execution_count": 113,
   "metadata": {},
   "outputs": [
    {
     "name": "stdout",
     "output_type": "stream",
     "text": [
      "1.9479907935492768\n"
     ]
    }
   ],
   "source": [
    "if shock == 2:\n",
    "    Eteta = np.dot(invdist,teta)\n",
    "    #print(Eteta)\n",
    "else:\n",
    "    Eteta = 1\n",
    "k_ss = (A*Eteta*alf*beta/(1-beta*(1-delta)))** (1/(1-alf))\n",
    "y_ss = Eteta * A * (k_ss ** alf)\n",
    "i_ss = delta * k_ss\n",
    "c_ss = y_ss - i_ss\n",
    "print(k_ss)"
   ]
  },
  {
   "cell_type": "markdown",
   "metadata": {},
   "source": [
    "## Step 2: Creation of a grid for the states\n",
    "Create a grid for the shock and for $k$ with $l_{k}$ values, i.e. $k \\in\\left[k_{1}<k_{2}<\\ldots<k_{l_{k}}\\right]$."
   ]
  },
  {
   "cell_type": "code",
   "execution_count": 114,
   "metadata": {},
   "outputs": [
    {
     "name": "stdout",
     "output_type": "stream",
     "text": [
      "[1.89929102 1.99669056]\n"
     ]
    }
   ],
   "source": [
    "# Grid for capital\n",
    "lk = 2\n",
    "k_min = 0.975 * k_ss\n",
    "k_max = 1.025 * k_ss\n",
    "inc = (k_max - k_min)/(lk-1)\n",
    "k = np.arange(k_min, k_max+1e-5, inc)\n",
    "print(k)"
   ]
  },
  {
   "cell_type": "markdown",
   "metadata": {},
   "source": [
    "## Step 3: Computation of the return function\n",
    "\n",
    "For each $\\theta, k$ and $k^{\\prime}$, calculate the consumption and return functions from:\n",
    "\n",
    "$$\n",
    "\\begin{aligned}\n",
    "&c=\\theta A k^{\\alpha}-k^{\\prime} \\\\\n",
    "&U(c)=\\frac{c^{1-\\gamma}}{1-\\gamma}\n",
    "\\end{aligned}\n",
    "$$\n",
    "\n",
    "If $l_{k}=2$ and $l_{\\theta}=4$:\n",
    "\n",
    "$$\n",
    "\\begin{aligned}\n",
    "&  \\quad \\quad \\theta_{1}\\quad \\quad  \\quad \\quad \\quad \\theta_{2} \\\\\n",
    "& \\longleftarrow k^{\\prime} \\longrightarrow \\quad \\quad \\longleftarrow k^{\\prime} \\longrightarrow \\\\\n",
    "& \\begin{gathered}\\uparrow \\\\ k\\\\ \\downarrow\\end{gathered}\n",
    "\\left[\\begin{array}{l}c_{11} \\\\c_{12} \\\\c_{21} \\\\c_{22}\\end{array}\\right] \n",
    "\\quad \\quad \\quad \\begin{gathered}\\uparrow \\\\ k\\\\ \\downarrow\\end{gathered}\n",
    "\\left[\\begin{array}{l}c_{11} \\\\c_{12} \\\\c_{21} \\\\c_{22}\\end{array}\\right]\n",
    "\\end{aligned}\n",
    "$$\n",
    "\n",
    "\n",
    "$$\n",
    "\\begin{aligned}\n",
    "&  \\quad \\quad \\theta_{3}\\quad \\quad  \\quad \\quad \\quad \\theta_{4} \\\\\n",
    "& \\longleftarrow k^{\\prime} \\longrightarrow \\quad \\quad \\longleftarrow k^{\\prime} \\longrightarrow \\\\\n",
    "& \\begin{gathered}\\uparrow \\\\ k\\\\ \\downarrow\\end{gathered}\n",
    "\\left[\\begin{array}{l}c_{11} \\\\c_{12} \\\\c_{21} \\\\c_{22}\\end{array}\\right] \n",
    "\\quad \\quad \\quad \\begin{gathered}\\uparrow \\\\ k\\\\ \\downarrow\\end{gathered}\n",
    "\\left[\\begin{array}{l}c_{11} \\\\c_{12} \\\\c_{21} \\\\c_{22}\\end{array}\\right]\n",
    "\\end{aligned}\n",
    "$$\n",
    "\n",
    "\n",
    "$$ c_{ij}=\\theta_t A k_i^\\alpha + (1-\\delta)k_i - k_j \\text { for } i=1: l_{k}, j=1: l_{k} \\text { and } t=1: l_{\\theta}$$ "
   ]
  },
  {
   "cell_type": "code",
   "execution_count": 115,
   "metadata": {},
   "outputs": [
    {
     "name": "stdout",
     "output_type": "stream",
     "text": [
      "[[1.01971795 1.03706655 1.05466396 1.07251376]\n",
      " [0.92231841 0.93966701 0.95726442 0.97511422]\n",
      " [1.12750651 1.1451438  1.16303404 1.18118086]\n",
      " [1.03010697 1.04774426 1.0656345  1.08378132]]\n"
     ]
    }
   ],
   "source": [
    "gk = lk * lk\n",
    "c = np.zeros((gk, lt))\n",
    "for t in range(lt):\n",
    "    for i in range(lk):\n",
    "        for j in range(lk):\n",
    "            c[i * lk + j][t] = A * teta[t] * k[i] ** alf + (1-delta)*k[i] - k[j]\n",
    "            if c[i * lk + j][t] < 0:\n",
    "                c[i * lk + j][t] = tolv\n",
    "print(c)"
   ]
  },
  {
   "cell_type": "markdown",
   "metadata": {},
   "source": [
    "To calculate the return function, take logs if $\\gamma = 1$ or calculate $\\frac{c^{1-\\gamma}}{1-\\gamma}$ otherwise"
   ]
  },
  {
   "cell_type": "code",
   "execution_count": 116,
   "metadata": {},
   "outputs": [
    {
     "name": "stdout",
     "output_type": "stream",
     "text": [
      "[[-0.98066333 -0.96425827 -0.94816931 -0.93238897]\n",
      " [-1.08422427 -1.06420678 -1.04464344 -1.02552089]\n",
      " [-0.88691284 -0.87325277 -0.85982006 -0.8466104 ]\n",
      " [-0.97077297 -0.95443138 -0.93840805 -0.92269536]]\n"
     ]
    }
   ],
   "source": [
    "if gamma ==1:\n",
    "    U = log(c)\n",
    "else:\n",
    "    U = c ** (1-gamma)/(1-gamma)\n",
    "print(U)"
   ]
  },
  {
   "cell_type": "markdown",
   "metadata": {},
   "source": [
    "## Step 4: Initialization and computation of the optimal value function\n",
    "Our candidate solution for the value function is an $l_{k} \\times l_{\\theta}$ matrix that will look at follows:\n",
    "$$\n",
    "V(k, \\theta)=\\left[\\begin{array}{cccc}\n",
    "V\\left(k_{1}, \\theta_{1}\\right) & V\\left(k_{1}, \\theta_{2}\\right) & V\\left(k_{1}, \\theta_{3}\\right) & V\\left(k_{1}, \\theta_{l_{\\theta}}\\right) \\\\\n",
    "V\\left(k_{2}, \\theta_{1}\\right) & V\\left(k_{2}, \\theta_{2}\\right) & V\\left(k_{2}, \\theta_{3}\\right) & V\\left(k_{2}, \\theta_{l_{\\theta}}\\right) \\\\\n",
    "\\vdots & \\vdots & \\vdots & \\vdots \\\\\n",
    "V\\left(k_{l_{k}}, \\theta_{1}\\right) & V\\left(k_{l_{k}}, \\theta_{2}\\right) & V\\left(k_{l_{k}}, \\theta_{3}\\right) & V\\left(k_{l_{k}}, \\theta_{l_{\\theta}}\\right)\n",
    "\\end{array}\\right]\n",
    "$$\n",
    "\n",
    "Initialize $V_{0}$ with a vector of zeros of dimension $l_{k} \\times l_{\\theta}$ and $V_{1}=T\\left(V_{0}\\right)$\n",
    "\n",
    "\n",
    "At each iteration $n$, calculate, for each pair $\\left(\\theta_{t}, k_{i}\\right)$ in the grid, the maximum over $k^{\\prime}$ of:\n",
    "\n",
    "$$\n",
    "\\begin{aligned}\n",
    "V_{n}\\left(k_{i}, \\theta_{t}\\right)=& \\max _{k^{\\prime}}\\left[\\begin{array}{c}\n",
    "U\\left(\\theta_{t} A k_{i}+(1-\\delta) k_{i}-k_{1}^{\\prime}\\right) \\\\\n",
    "U\\left(\\theta_{t} A k_{i}+(1-\\delta) k_{i}-k_{2}^{\\prime}\\right)\n",
    "\\end{array}\\right] \\\\\n",
    "&+\\beta\\left[\\begin{array}{l}\n",
    "\\sum_{m=1}^{l_{\\theta}} P_{t m} V_{n-1}\\left(k_{1}^{\\prime}, \\theta_{m}^{\\prime}\\right) \\\\\n",
    "\\sum_{m=1}^{l_{\\theta}} P_{t m} V_{n-1}\\left(k_{2}^{\\prime}, \\theta_{m}^{\\prime}\\right)\n",
    "\\end{array}\\right]\n",
    "\\end{aligned}\n",
    "$$"
   ]
  },
  {
   "cell_type": "markdown",
   "metadata": {},
   "source": [
    "After the first iteration, follow the next steps:\n",
    "\n",
    "- Set $V_{0}$ to be the $V_{1}$ computed from the previous iteration.\n",
    "\n",
    "- For each $\\left(k_{i}, \\theta_{t}\\right)$, compute $U(c)+\\beta E V_{0}\\left(k^{\\prime}, \\theta^{\\prime}\\right)$ and choose the maximum over $k^{\\prime}$ and call it $V_{1}$.\n",
    "\n",
    "- Compare $V_{0}$ with $V_{1}$ and, if the difference is sufficiently small, stop (use the norm of $V_{1}-V_{0}$ ) "
   ]
  },
  {
   "cell_type": "code",
   "execution_count": 121,
   "metadata": {},
   "outputs": [
    {
     "name": "stdout",
     "output_type": "stream",
     "text": [
      "[[-9.80194946 -9.64146466 -9.48283157 -9.32839645]\n",
      " [-9.70306393 -9.5432004  -9.38521451 -9.23144103]]\n"
     ]
    }
   ],
   "source": [
    "# Initialize of the value function\n",
    "V0 = np.ones((lk, lt))\n",
    "V1 = np.zeros((lk, lt))\n",
    "\n",
    "while abs(np.linalg.norm(V1 - V0)) > tolv:\n",
    "    V0 = np.copy(V1)\n",
    "    for j in range(lt):\n",
    "        for i in range(lk):\n",
    "            vtemp = U[i*lk:(i+1)*lk,j] + beta * np.dot(V0, Pit[:, j])\n",
    "            #print(vtemp)\n",
    "            V1[i,j] = np.max(vtemp)\n",
    "V0 = np.copy(V1)\n",
    "print(V0)"
   ]
  },
  {
   "cell_type": "markdown",
   "metadata": {},
   "source": [
    "## Step 5: Computation of the optimal policy functions\n"
   ]
  },
  {
   "cell_type": "code",
   "execution_count": 125,
   "metadata": {},
   "outputs": [
    {
     "name": "stdout",
     "output_type": "stream",
     "text": [
      "[[0 0 0 0]\n",
      " [1 1 1 1]]\n"
     ]
    }
   ],
   "source": [
    "optim = np.zeros((lk,lt),dtype=\"int\") # \"int\" type for index. \n",
    "for j in range(lt):\n",
    "    for i in range(lk):\n",
    "        vtemp = U[i*lk:(i+1)*lk,j] + beta * np.dot(V0, Pit[:, j])\n",
    "        optim[i,j] = np.argmax(vtemp)\n",
    "print(optim)"
   ]
  },
  {
   "cell_type": "markdown",
   "metadata": {},
   "source": [
    "For each pair $\\left(\\theta_{j}, k_{i}\\right)$, optim(i,j) is the index of the next period capital maximizer. \n",
    "\n",
    "If $l_k = 2$ and $l_\\theta = 4$:"
   ]
  },
  {
   "cell_type": "markdown",
   "metadata": {},
   "source": [
    "$$\n",
    "\\begin{aligned}\n",
    "& \\text { polk }=\\left[\\begin{array}{llll}g_{k}\\left(k_{1}, \\theta_{1}\\right) & g_{k}\\left(k_{1}, \\theta_{2}\\right) & g_{k}\\left(k_{1}, \\theta_{3}\\right) & g_{k}\\left(k_{1}, \\theta_{4}\\right) \\\\g_{k}\\left(k_{2}, \\theta_{1}\\right) & g_{k}\\left(k_{2}, \\theta_{2}\\right) & g_{k}\\left(k_{2}, \\theta_{3}\\right) & g_{k}\\left(k_{2}, \\theta_{4}\\right)\\end{array}\\right] \\\\\n",
    "& \\text { polc }=\\left[\\begin{array}{cccc}\\theta_{1} k_{1}^{\\alpha} & \\theta_{2} k_{1}^{\\alpha} & \\theta_{3} k_{1}^{\\alpha} & \\theta_{4} k_{1}^{\\alpha} \\\\\\theta_{1} k_{2}^{\\alpha} & \\theta_{2} k_{2}^{\\alpha} & \\theta_{3} k_{2}^{\\alpha} & \\theta_{4} k_{2}^{\\alpha}\\end{array}\\right]+(1-\\delta)\\left[\\begin{array}{cccc}k_{1} & k_{1} & k_{1} & k_{1} \\\\k_{2} & k_{2} & k_{2} & k_{2}\\end{array}\\right]-\\text { polk } \n",
    "\\end{aligned}\n",
    "$$"
   ]
  },
  {
   "cell_type": "code",
   "execution_count": 126,
   "metadata": {
    "scrolled": true
   },
   "outputs": [
    {
     "name": "stdout",
     "output_type": "stream",
     "text": [
      "[[1.89929102 1.89929102 1.89929102 1.89929102]\n",
      " [1.99669056 1.99669056 1.99669056 1.99669056]]\n"
     ]
    }
   ],
   "source": [
    "polk = k[optim]\n",
    "print(polk)"
   ]
  },
  {
   "cell_type": "markdown",
   "metadata": {},
   "source": [
    "Actually Step 3-5 can use matrices instead of loops.\n",
    "\n",
    "For each value of the shock, we create $l_{k} \\times l_{k}$ consumption and utility submatrices. For example, if the shock is equal to $\\theta_{t}$, and $l_{k}=2$ :\n",
    "\n",
    "$$\n",
    "\\theta_{t} \\\\\n",
    "\\left[\\begin{array}{cc} \n",
    "c_{11} & c_{21} \\\\\n",
    "c_{12} & c_{22}\n",
    "\\end{array}\\right]\n",
    "$$\n",
    "\n",
    "where $c_{i j}\\left(\\theta_{t}\\right)=A \\theta_{t} k_{i}^{\\alpha}+(1-\\delta) k_{i}-k_{j}$."
   ]
  },
  {
   "cell_type": "markdown",
   "metadata": {},
   "source": [
    "- The program uses the command find to locate the negative consumptions in each matrix and sets the utility equal to a high negative number (equivalent to setting the consumption to a very low number)\n",
    "\n",
    "- For each level of the shock, it calculates the future value function futval, equal to $E V_{0}$, and selects the corresponding return submatrix $U$ to maximize $U+\\beta E V_{0}$. If the shock is equal to $\\theta_{t}$, and $I_{k}=2$, the program finds the maximum over $k^{\\prime}$ of the following matrix:\n",
    "\n",
    "$$\n",
    "U\\left(\\begin{array}{cc}\n",
    "c_{11}\\left(\\theta_{t}\\right) & c_{21}\\left(\\theta_{t}\\right) \\\\\n",
    "c_{12}\\left(\\theta_{t}\\right) & c_{22}\\left(\\theta_{t}\\right)\n",
    "\\end{array}\\right)+\\beta\\left[\\begin{array}{c}\n",
    "\\sum_{m=1}^{l_{\\theta}} P_{t m} V_{0}\\left(k_{1}^{\\prime}, \\theta_{m}^{\\prime}\\right) \\\\\n",
    "\\sum_{m=1}^{l_{\\theta}} P_{t m} V_{0}\\left(k_{2}^{\\prime}, \\theta_{m}^{\\prime}\\right)\n",
    "\\end{array}\\right]\n",
    "$$\n",
    "\n",
    "returning the vector $t_{1}$ with the maximized values, $t_{1}=\\left[V_{1}\\left(k_{1}, \\theta_{1}\\right)\\right.$ $\\left.V_{1}\\left(k_{2}, \\theta_{1}\\right)\\right]$, as well as a vector $t_{2}$ with the indexes of the next period capital maximizer. \n",
    "\n",
    "If $l_k=2$ and $\\theta = \\theta_4$. we obtain: $t_2 = [1,2]$\n",
    "\n"
   ]
  },
  {
   "cell_type": "markdown",
   "metadata": {},
   "source": [
    "This indicates that, if $\\theta= \\theta_4$, the optimal next period capital is always equal to the initial one. Note that, for each value of the shock, the vectors $t_1$ and $t_2$ are appropriately located in the matrices $V$ and optim, which are the same as above."
   ]
  },
  {
   "cell_type": "markdown",
   "metadata": {},
   "source": [
    "## Simulating the model\n",
    "\n",
    "(1) Choose an initial value for $k_0$ and $\\theta_0$ and use the policy matrix to extract the optimal …rst period capital.\n",
    "\n",
    "(2) We then create a loop that:\n",
    "\n",
    "- given the initial capital and the initial shock, …nds the position of the optimal next period capital.\n",
    "\n",
    "- uses the initial capital, the initial shock index, and the position of the new optimal capital to calculate the values of output, consumption, and the next period capital, using the optimal policy matrices. It also generates a new shock index for next period."
   ]
  },
  {
   "cell_type": "markdown",
   "metadata": {},
   "source": [
    "# Stochastic Growth Model with Irreversible Investment\n",
    "\n",
    "The social planner solves the following problem:\n",
    "\n",
    "$$\n",
    "\\begin{gathered}\n",
    "\\max _{\\left\\{c_{t}, k_{t+1}\\right\\}} E_{0} \\sum_{t=0}^{\\infty} \\beta^{t} \\frac{c_{t}^{1-\\gamma}}{1-\\gamma} \\\\\n",
    "c_{t}+i_{t} \\leq \\theta_{t} A k_{t}^{\\alpha} \\\\\n",
    "k_{t+1}=i_{t}+(1-\\delta) k_{t} \\\\\n",
    "i_{t} \\geq 0\n",
    "\\end{gathered}\n",
    "$$\n",
    "\n",
    "$k_{0}, \\theta_{0}$ given, $c_{t}, k_{t} \\geq 0$ for all $t$. \n",
    "The codes are basicly same as above, only with small modification in step 2."
   ]
  },
  {
   "cell_type": "code",
   "execution_count": null,
   "metadata": {},
   "outputs": [],
   "source": []
  }
 ],
 "metadata": {
  "kernelspec": {
   "display_name": "Python 3 (ipykernel)",
   "language": "python",
   "name": "python3"
  },
  "language_info": {
   "codemirror_mode": {
    "name": "ipython",
    "version": 3
   },
   "file_extension": ".py",
   "mimetype": "text/x-python",
   "name": "python",
   "nbconvert_exporter": "python",
   "pygments_lexer": "ipython3",
   "version": "3.10.13"
  },
  "vscode": {
   "interpreter": {
    "hash": "edd9cdd51b86150e8653102c4f22946173e31191287441abc5f03ea8d5729ff2"
   }
  }
 },
 "nbformat": 4,
 "nbformat_minor": 4
}
