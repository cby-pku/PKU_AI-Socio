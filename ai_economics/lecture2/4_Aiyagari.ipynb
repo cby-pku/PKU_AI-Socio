{
 "cells": [
  {
   "cell_type": "markdown",
   "metadata": {},
   "source": [
    "# <center>Aiyagari Model</center>\n",
    "# A Standard Savings Problem\n",
    "\n",
    "- The economy is populated by a large number of ex-ante identical but ex-post heterogeneous households. \n",
    "\n",
    "- Households trade in a single security to insure against risks. \n",
    "\n",
    "- There is no aggregate uncertainty, implying that the aggregate variables will be constant in the stationary equilibrium. \n",
    "\n",
    "- Individual income at period $t$, denoted by $s_t$ , follows an $m$-state Markov chain with transition matrix $π$.\n",
    "\n",
    "\n",
    "We have that:\n",
    "$$\n",
    "s_t \\in \\{s_1, s_2, \\dots, s_m \\}, \\\\\n",
    "\\pi_{ij}=\\text{prob}(s'=s_j|s=s_i),\\  \\text{for} \\ i = 1, \\dots, m \\    \\text{and} \\ j = 1, \\dots, m.\n",
    "$$"
   ]
  },
  {
   "cell_type": "markdown",
   "metadata": {},
   "source": [
    "- If the realization of the process at period $t$ is $s_t$, a household receives labor income equal to $ws_t$ , where $w$ is the wage rate.\n",
    "- If the asset holdings of the household at the beginning of the period are equal to $a_t$ , he receives a gross return of $(1 + r )a_t$.\n",
    "\n",
    "For given $(w, r)$ and $(a_0, s_0)$, the household maximizes:\n",
    "$$\n",
    "\\max_{c_t,a_{t+1}}E_0\\sum_{t=0}^{\\infty}\\beta^tu(c_t),\\ s.t. \\\\\n",
    "c_t+a_{t+1}=(1+r)a_t+ws_t,\\ a_{t+1} \\in A\n",
    "$$"
   ]
  },
  {
   "cell_type": "markdown",
   "metadata": {},
   "source": [
    "We assume that $\\beta \\in (0,1)$ and $u(c)$ satisfies $\\lim_{c\\rightarrow 0}u'(c)=\\infty$. This last assumption ensures that $c\\ge 0$. In addition, $u(c)$ is strictly increasing, strictly concave and twice continuously differentiable. \n",
    "\n",
    "An important assumption is $\\beta(1 + r) < 1$. This prevents assets from going to infinity.\n",
    "\n",
    "Regarding the factor prices $(w, r)$, we distinguish between two cases:\n",
    "\n",
    "- One is a pure exchange economy where each household can borrow or lend in a zero net supply asset at a constant $r$, while the wage $w$ is also constant. This is the set-up studied by Huggett (1993).\n",
    "- The other is a production economy, implying that both factor prices are determined by the firm in equilibrium. This is the set-up studied by Aiyagari (1994)."
   ]
  },
  {
   "cell_type": "markdown",
   "metadata": {},
   "source": [
    "# Dynamic Programming Problem\n",
    "If we discretize the state space, the problem of the household can be solved using standard numerical dynamic programming techniques.\n",
    "\n",
    "The individual state is given by the pair $(a_t, s_t)$, where $s_t$ is already discrete. We assume that the asset holdings can only take a finite number of values, i.e, $a_t \\in \\{a_1, a_2, \\dots, a_n \\}$, incorporating an upper and lower limit of the quantity that can be borrowed.\n",
    "\n",
    "The dynamic programming problem of the household is then given by:\n",
    "$$\n",
    "v(a,s)=\\max_{a'\\in A}\\{u[(1+r)a+ws-a']+\\beta \\sum_j \\pi_{ij}v(a',s_j) \\}, s.t. \\\\\n",
    "c+a'=(1+r)a+ws\n",
    "$$"
   ]
  },
  {
   "cell_type": "markdown",
   "metadata": {},
   "source": [
    "# Solution and Stationary Distribution\n",
    "Given $(w, r)$, the solution consists of the optimal value and policy functions $v(a, s)$, $a' = g_a(a, s)$ and $c = g_c (a, s)$. \n",
    "- The policy functions have to satisfy market clearing when aggregated over households. \n",
    "\n",
    "To aggregate, however, we need the asset-employment distribution, making this type of models more complicated than the standard representative household environment. \n",
    "- We use the fact that a stationary employment-wealth distribution can be obtained by defining a Markov process for the distribution and by calculating the stationary distribution of this Markov chain.\n",
    "- We approximate the process for $(a, s)$ with a Markov chain, with a stationary probability vector $\\lambda (a_n, s_m)$, where:\n",
    "$$\n",
    "\\lambda (a_n, s_m) = \\text{Pr}(a_t = a_n, s_t = s_m)\n",
    "$$\n",
    "Note that $ \\lambda (a, s)$ represents the fraction of time that a household indexed by $(a, s)$ spends in state $(a, s)$. Alternatively, it is the fraction of households with asset holdings $a$ and labor endowment $s$ (there is an equivalence between the cross sectional and time series properties of the distribution)."
   ]
  },
  {
   "cell_type": "markdown",
   "metadata": {},
   "source": [
    "Let the individual state of the economy be given by the vector:\n",
    "$$\n",
    "x = \\{(s_1, a_1), \\dots , (s_1, a_n), (s_2, a_1), \\dots , (s_2, a_n), \\dots , (s_m, a_1), \\dots , (s_m, a_n) \\}^T\n",
    "$$\n",
    "\n",
    "- The policy function $a' = g_a (a, s)$ and the shock transition matrix $\\Pi$ induce a Markov chain on $x$ via the following formula:\n",
    "$$\n",
    "\\begin{align}\n",
    "Π =& \\text{ Pr }[(a_{t+1} = a', s_{t+1} = s')|(a_t = a, s_t = s)] \\\\\n",
    "=& \\text{ Pr }[(a_{t+1} = a'|s_t = s, a_t = a)]\\text{ Pr }[s_{t+1} = s'|s_t =s] \\\\\n",
    "=& Υ(a', a, s)\\pi\n",
    "\\end{align}\n",
    "$$\n",
    "where $Υ(a', a, s)$ is an indicator function which is equal to one if $a' = g (a, s )$ and zero otherwise.\n",
    "\n",
    "- The stationary probability vector of this Markov chain is given by:\n",
    "$$\n",
    "p_\\infty =\\{\\lambda(s_1, a_1), \\dots, \\lambda(s_1 ,a_n), \\lambda(s_2, a_1), \\dots, \\dots, \\lambda(s_m , a_n)\\}^T, \n",
    "$$\n",
    "and the aggregate asset holdings are equal to $p_\\infty^Tx$."
   ]
  },
  {
   "cell_type": "markdown",
   "metadata": {},
   "source": [
    "# The Model of Aiyagari(1994)\n",
    "\n",
    "In the model of Aiyagari(1994), the asset holdings $a_{t+1}$ represent holdings of capital $K_{t+1}$, which evolves according to:\n",
    "$$\n",
    "K_{t+1} = (1-\\delta)K_t + x_t \n",
    "$$\n",
    "$x_t$ is gross investment and $\\delta$ is the depreciation rate. The consumption of a household is therefore equal to:\n",
    "$$\n",
    "c_t + a_{t+1} = (1 + r)a_t + ws_t \n",
    "$$\n",
    "where $a_{t+1} = K_{t+1}$.The factor prices $r = \\tilde{r}-\\delta$ and $w$ are determined from the marginal conditions of the firm. \n",
    "\n",
    "The author assumed that there is an aggregate production function whose arguments are the average levels of capital and employment. Therefore,\n",
    "$$\n",
    "\\begin{align}\n",
    "w =& \\frac{\\partial F(K,N)}{\\partial N} \\\\\n",
    "\\tilde{r} =& \\frac{\\partial F(K,N)}{\\partial K} \\\\\n",
    "\\end{align}\n",
    "$$\n",
    "where $F(K,N)=AK^\\alpha N^{1-\\alpha}$.\n",
    "\n",
    "A stationary equilibrium consists of a value function $v(a, s)$, a pair of policy functions $g_k(k, s)$ and $g_c (k, s)$, a probability distribution $\\lambda (k, s)$, factor prices $(w,\\tilde{r})$, and a vector of aggregate capital and labor $(K, N)$ such that:\n",
    "1. The factor prices satisfy the conditions for profit maximization.\n",
    "2. The value and policy functions solve the household problem given factor prices.\n",
    "3. The probability distribution is the stationary distribution. associated with $g_k (k, s)$ and $\\pi$.\n",
    "4. Markets clear. In particular,\n",
    "$$\n",
    "K=\\sum_{k,s} \\lambda(k,s)g_k(k,s),\\ N=p_\\infty^Ts.\n",
    "$$\n"
   ]
  },
  {
   "cell_type": "markdown",
   "metadata": {},
   "source": [
    "# Code Demonstration\n",
    "\n",
    "To compute the equilibrium, we follow the next steps.\n",
    "\n",
    "## Step1 Initialize parameters\n"
   ]
  },
  {
   "cell_type": "code",
   "execution_count": 2,
   "metadata": {},
   "outputs": [
    {
     "name": "stderr",
     "output_type": "stream",
     "text": [
      "OMP: Info #271: omp_set_nested routine deprecated, please use omp_set_max_active_levels instead.\n"
     ]
    }
   ],
   "source": [
    "import quantecon as qe\n",
    "import math\n",
    "import numpy as np\n",
    "import copy\n",
    "\n",
    "# Initialize parameters\n",
    "beta = 0.96\n",
    "timepref = 1/beta-1\n",
    "mu = 3\n",
    "theta = 0.36\n",
    "delta = 0.08\n",
    "rho = 0.9\n",
    "sigma = 0.4\n",
    "sigmain = sigma*math.sqrt(1-rho**2)\n",
    "\n",
    "# precision\n",
    "tolv = 1e-07\n",
    "tolr = 1e-04\n",
    "tola = 1e-03"
   ]
  },
  {
   "cell_type": "markdown",
   "metadata": {},
   "source": [
    "We follow Aiyagari by approximating a continuous AR(1) process with an N-state Markov chain with transition matrix Pi, while invdist represents the stationary probability vector, used to compute the average labor supply N."
   ]
  },
  {
   "cell_type": "code",
   "execution_count": 3,
   "metadata": {
    "scrolled": true
   },
   "outputs": [
    {
     "name": "stdout",
     "output_type": "stream",
     "text": [
      "[[6.76822402e-01 3.20224902e-01 2.95247154e-03 2.24229050e-07\n",
      "  1.05804254e-13 0.00000000e+00 0.00000000e+00]\n",
      " [5.41468279e-02 7.00204610e-01 2.44218593e-01 1.42990329e-03\n",
      "  6.58150209e-08 1.85407245e-14 0.00000000e+00]\n",
      " [1.20966395e-04 8.42133430e-02 7.36268012e-01 1.78738195e-01\n",
      "  6.59465950e-04 1.83562562e-08 3.10862447e-15]\n",
      " [4.86431481e-09 2.89526744e-04 1.25385023e-01 7.48650891e-01\n",
      "  1.25385023e-01 2.89526744e-04 4.86431484e-09]\n",
      " [3.09205035e-15 1.83562562e-08 6.59465950e-04 1.78738195e-01\n",
      "  7.36268012e-01 8.42133430e-02 1.20966395e-04]\n",
      " [2.95535541e-23 1.85581757e-14 6.58150209e-08 1.42990329e-03\n",
      "  2.44218593e-01 7.00204610e-01 5.41468279e-02]\n",
      " [4.14765577e-33 2.83186494e-22 1.05761781e-13 2.24229050e-07\n",
      "  2.95247154e-03 3.20224902e-01 6.76822402e-01]]\n",
      "[[0.01372285]\n",
      " [0.08137732]\n",
      " [0.23635863]\n",
      " [0.33708239]\n",
      " [0.23635863]\n",
      " [0.08137732]\n",
      " [0.01372285]]\n",
      "1.1154924224011507\n"
     ]
    }
   ],
   "source": [
    "# N state markov chain\n",
    "N = 7\n",
    "m = 3\n",
    "markov_chain = qe.markov.approximation.tauchen(rho, sigmain, m=m, n=N)\n",
    "\n",
    "# transition matrix\n",
    "Pi = markov_chain.P\n",
    "Pii = Pi.T\n",
    "print(Pi)\n",
    "\n",
    "# log state value\n",
    "logs = markov_chain.state_values\n",
    "# print(logs)\n",
    "\n",
    "# stationary distribution\n",
    "invdist = markov_chain.stationary_distributions.reshape(N, 1)\n",
    "print(invdist)\n",
    "\n",
    "s = np.exp(logs)\n",
    "labor = np.dot(s, invdist[:, 0])\n",
    "lt = len(s)\n",
    "print(labor)"
   ]
  },
  {
   "cell_type": "markdown",
   "metadata": {},
   "source": [
    "## Step 2:  Initialize the return r with a guess\n",
    "\n",
    "## Step 3: Discretize the individual asset holdings\n",
    "\n",
    "We have choosen approximately one fourth of the maximum sustainable capital stock as an upper bound. The lower bound is set to zero if the interest rate is positive and to the natural debt limit otherwise.\n"
   ]
  },
  {
   "cell_type": "markdown",
   "metadata": {},
   "source": [
    "## Step 4: Solve the problem of the households given $(K, w, r )$ \n",
    "- Iterate on the value function and compute the optimal policy. \n",
    "- Use the optimal policy function $g_k(k, s)$ to deduce the associated stationary distributio $\\lambda (k, s )$.\n",
    "\n",
    "To compute the stationary probability vector, we approximate the state of the economy with a Markov chain. To understand how to do this in practice, consider the case in which $a \\in\\left\\{a_1, a_2\\right\\}$ and $s \\in\\left\\{s_1, s_2\\right\\}$. The individual state can represented by the vector:\n",
    "$$\n",
    "x=\\left\\{\\left(s_1, a_1\\right),\\left(s_1, a_2\\right),\\left(s_2, a_1\\right),\\left(s_2, a_2\\right)\\right\\}\n",
    "$$\n",
    "- A stationary distribution is a four dimensional vector containing the stationary probabilities for each of these states, i.e.,\n",
    "$$\n",
    "p_{\\infty}=\\left\\{\\lambda\\left(s_1, a_1\\right), \\lambda\\left(s_1, a_2\\right), \\lambda\\left(s_2, a_1\\right), \\lambda\\left(s_2, a_2\\right)\\right\\}^T\n",
    "$$"
   ]
  },
  {
   "cell_type": "markdown",
   "metadata": {},
   "source": [
    "## Step 5: Compute the average capital associated with $\\lambda (k, s )$\n",
    "$$\n",
    "K^s = \\sum_{k,s} \\lambda(k,s)g_k(k,s)\n",
    "$$\n",
    "\n",
    "## Step 6: Update r if $r \\neq r (K^s)$ \n",
    "- We first calculate the return implied by the capital supply of the households, i.e., $r(K^s)$, and compare it to the initial r. We then use bracketing to iterate on r.\n",
    "- In particular, we choose the highest(lowest) as the upper(lower) bracket, while the r used in the new iteration is the average of the two."
   ]
  },
  {
   "cell_type": "code",
   "execution_count": 4,
   "metadata": {},
   "outputs": [
    {
     "name": "stdout",
     "output_type": "stream",
     "text": [
      "1 0.04 0.001328794201656061\n",
      "2 0.02066439710082803 0.026735566029510785\n",
      "saving too little (meank<k), so increasing r!\n",
      "3 0.030332198550414018 0.013249450231097457\n",
      "saving too much (meank>k), so reducing r!\n",
      "4 0.025498297825621026 0.019557775135788408\n",
      "saving too much (meank>k), so reducing r!\n",
      "5 0.02308134746322453 0.023162784709803402\n",
      "Done model!\n",
      "0.02308134746322453\n"
     ]
    }
   ],
   "source": [
    "# Step 2: initialize r\n",
    "ini = 1\n",
    "if ini:\n",
    "    r = 0.04\n",
    "else:\n",
    "    r = 0.02298754441505\n",
    "iter1 = 0\n",
    "\n",
    "\n",
    "\n",
    "while True:\n",
    "    \n",
    "    # Step 3: compute w and K from the marginal conditions of the firm.\n",
    "    iter1 += 1\n",
    "    K = labor*math.pow((r+delta)/theta, 1/(theta-1))\n",
    "    w = (1 - theta) * ((theta / (r + delta)) ** (theta / (1 - theta)))\n",
    "    \n",
    "    # asset limit\n",
    "    b = 0\n",
    "    if r <= 0:\n",
    "        phi = b\n",
    "    else:\n",
    "        phi = min(b, w*s[0]/r)\n",
    "    \n",
    "    # Discretize the individual asset holdings\n",
    "    k_min = -phi\n",
    "    k_max = 16\n",
    "    inc = 0.1\n",
    "    kgrid = np.arange(k_min, k_max, inc)\n",
    "    lk = len(kgrid)\n",
    "\n",
    "    \n",
    "    \n",
    "    # Step 4: Solve the problem of the households using Dynamic Programming\n",
    "    c = np.zeros((lk*lk, lt))\n",
    "    u = np.zeros((lk*lk, lt))\n",
    "    for t in range(lt):\n",
    "        for i in range(lk):\n",
    "            for j in range(lk):\n",
    "                c[i*lk+j, t] = (1+r)*kgrid[i]+w*s[t]-kgrid[j]\n",
    "                if c[i*lk+j, t] < 0:\n",
    "                    c[i*lk+j, t] = 1e-07\n",
    "                    \n",
    "    # choose utility function\n",
    "    if mu == 1:\n",
    "        u = np.log(c)\n",
    "    else:\n",
    "        u = (np.power(c, (1-mu))-1)/(1-mu)\n",
    "        \n",
    "    # iterate on the value function and compute the optimal policy\n",
    "    V0 = np.ones((lk, lt))\n",
    "    V1 = np.zeros((lk, lt))\n",
    "    optim = np.zeros((lk, lt), dtype=np.int32)\n",
    "\n",
    "    # Value function iteration\n",
    "    iter = 0\n",
    "    while np.linalg.norm(V1-V0) > tolv:\n",
    "        # print(np.linalg.norm(V1-V0))\n",
    "        iter = iter + 1\n",
    "        V0 = copy.deepcopy(V1)\n",
    "        for j in range(lt):\n",
    "            for i in range(lk):\n",
    "                vtemp = u[i*lk:(i+1)*lk, j]+beta * np.dot(V0, Pii[:, j])  # 对的\n",
    "                V1[i, j] = np.max(vtemp)\n",
    "                optim[i, j] = np.argmax(vtemp)\n",
    "    \n",
    "    # policy function conditional on shock\n",
    "    polk = kgrid[optim.astype('int64')]\n",
    "    \n",
    "    # Calculate the invariant distribution\n",
    "    gmat = np.zeros((lk, lk, lt))\n",
    "    trans = np.zeros((lk*lt, lk*lt))\n",
    "    for j in range(lt):\n",
    "        for i in range(lk):\n",
    "            gmat[i, optim[i, j], j] = 1\n",
    "        trans[j*lk: (j+1)*lk, :] = np.kron(Pi[j, :], gmat[:, :, j])\n",
    "    probst = np.ones((1, lt*lk), dtype=float)\n",
    "    probst = probst * (1/(lt*lk))\n",
    "    test = 1\n",
    "    while test > 1e-5:\n",
    "        probst1 = np.dot(probst, trans)\n",
    "        test = np.max(np.abs(probst-probst1))\n",
    "        probst = probst1\n",
    "\n",
    "    # Step 5: Compute the average capital K\n",
    "    meank = np.dot(probst, polk.T.reshape(-1, 1))\n",
    "\n",
    "    \n",
    "    # Step 6: Update r\n",
    "    rstar = theta*math.pow(meank, theta-1)*math.pow(labor, 1-theta)-delta\n",
    "    testr = abs(r-rstar)\n",
    "    testa = abs(K-meank)\n",
    "    print(iter1, r, rstar)\n",
    "\n",
    "    if testr < tolr:\n",
    "        break\n",
    "        \n",
    "    if iter1 == 1:\n",
    "        if rstar > (1/beta)-1:\n",
    "            rstar = (1/beta)-1\n",
    "        rhigh = max(r, rstar)\n",
    "        rlow = min(r, rstar)\n",
    "    elif meank > K:\n",
    "        print('saving too much (meank>k), so reducing r!')\n",
    "        rhigh = r\n",
    "    else:\n",
    "        print('saving too little (meank<k), so increasing r!')\n",
    "        rlow = r\n",
    "    r = rhigh*0.5+rlow*0.5\n",
    "    \n",
    "print('Done model!')\n",
    "print(r)\n"
   ]
  },
  {
   "cell_type": "code",
   "execution_count": null,
   "metadata": {},
   "outputs": [],
   "source": []
  }
 ],
 "metadata": {
  "kernelspec": {
   "display_name": "Python 3 (ipykernel)",
   "language": "python",
   "name": "python3"
  },
  "language_info": {
   "codemirror_mode": {
    "name": "ipython",
    "version": 3
   },
   "file_extension": ".py",
   "mimetype": "text/x-python",
   "name": "python",
   "nbconvert_exporter": "python",
   "pygments_lexer": "ipython3",
   "version": "3.11.5"
  },
  "vscode": {
   "interpreter": {
    "hash": "4e10703233d69b35eb561f8636dd68acc87fd08534c158cafa9feba56282ec93"
   }
  }
 },
 "nbformat": 4,
 "nbformat_minor": 2
}
